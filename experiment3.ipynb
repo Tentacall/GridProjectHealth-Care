{
 "cells": [
  {
   "cell_type": "code",
   "execution_count": 1,
   "metadata": {},
   "outputs": [],
   "source": [
    "# from tensorflow.keras.layers import Input # Input Layer\n",
    "# from tensorflow.keras.applications import DenseNet121 # Keras Application\n",
    "# from tensorflow.keras.layers import Dense # Dense Layer (Fully connected)\n",
    "# from tensorflow.keras.models import Model # Model Structure\n",
    "\n",
    "\n",
    "\n",
    "# input_shape=(3, 400, 400)\n",
    "\n",
    "# img_input = Input(shape=input_shape)\n",
    "# base_model = DenseNet121(include_top=False, \n",
    "#                          input_tensor=img_input, \n",
    "#                          input_shape=input_shape, \n",
    "#                          pooling=\"max\", \n",
    "#                          weights='imagenet')\n",
    "# base_model.trainable = True\n",
    "# x = base_model.output\n",
    "# predictions = Dense(5, \n",
    "#                     activation=\"softmax\", \n",
    "#                     name=\"predictions\")(x)\n",
    "# model = Model(inputs=img_input, \n",
    "#               outputs=predictions)"
   ]
  },
  {
   "cell_type": "code",
   "execution_count": 2,
   "metadata": {},
   "outputs": [
    {
     "name": "stderr",
     "output_type": "stream",
     "text": [
      "/home/rupax/github/GridProjectHealth-Care/venv/lib/python3.10/site-packages/torchvision/models/_utils.py:208: UserWarning: The parameter 'pretrained' is deprecated since 0.13 and may be removed in the future, please use 'weights' instead.\n",
      "  warnings.warn(\n",
      "/home/rupax/github/GridProjectHealth-Care/venv/lib/python3.10/site-packages/torchvision/models/_utils.py:223: UserWarning: Arguments other than a weight enum or `None` for 'weights' are deprecated since 0.13 and may be removed in the future. The current behavior is equivalent to passing `weights=DenseNet121_Weights.IMAGENET1K_V1`. You can also use `weights=DenseNet121_Weights.DEFAULT` to get the most up-to-date weights.\n",
      "  warnings.warn(msg)\n"
     ]
    },
    {
     "name": "stdout",
     "output_type": "stream",
     "text": [
      "torch.Size([2, 5])\n"
     ]
    }
   ],
   "source": [
    "import torch\n",
    "import torch.nn as nn\n",
    "from torchvision.models import densenet121\n",
    "\n",
    "x = torch.randn(2, 3, 224, 224)\n",
    "base_model = densenet121(pretrained=True)\n",
    "class DenseNet121(nn.Module):\n",
    "    def __init__(self, base_model):\n",
    "        super(DenseNet121, self).__init__()\n",
    "        self.base_model = base_model\n",
    "        self.fc = nn.Linear(1000, 5)\n",
    "        self.softmax = nn.Softmax(dim=1)\n",
    "    def forward(self, x):\n",
    "        x = self.base_model(x)\n",
    "        x = self.fc(x)\n",
    "        x = self.softmax(x)\n",
    "        return x\n",
    "model = DenseNet121(base_model)\n",
    "# model = model.add_module('softmax', torch.nn.Softmax())\n",
    "# model = model.cuda()\n",
    "out = model(x.float())\n",
    "print(out.shape)"
   ]
  },
  {
   "cell_type": "code",
   "execution_count": 3,
   "metadata": {},
   "outputs": [],
   "source": [
    "from utils.dataloader import *\n",
    "from utils.confLoader import *\n",
    "from trainCopy1 import *\n",
    "import torch.multiprocessing as mp"
   ]
  },
  {
   "cell_type": "code",
   "execution_count": null,
   "metadata": {},
   "outputs": [
    {
     "name": "stdout",
     "output_type": "stream",
     "text": [
      "[■■■■■■■■■■■■■■■■■■■■■■■■■■■■■■■■■■■■■■■■] 100%Epoch 1, Loss: 1.6185786403142488\n",
      "[■■■■■■■■■■■■■■■■■■■■■■■■■■■■■■■■■■■■■■■■] 100%Epoch 2, Loss: 1.5413124011113093\n",
      "[■■■■■■■■■■■■■■■■■■■■■■■■■■■■■■■■■■■■■■■■] 100%Epoch 3, Loss: 1.576086434034201\n",
      "[■■■■■■■■■■■■■■■■■■■■■■■■■■■■■■■■■■■■■■■■] 100%Epoch 4, Loss: 1.5584854391904979\n",
      "[■■■■■■■■■■■■■■■■■■■■■■■■■■■■■■■■■■■■■■■■] 100%Epoch 5, Loss: 1.6181666851043701\n",
      "[■■■■■■■■■■■■■■■■■■■■■■■■■■■■■■■■■■■■■■■■] 100%Epoch 6, Loss: 1.5745812333547151\n",
      "[■■■■■■■■■■■■■■■■■■■■■■■■■■■■■■■■■■■■■■■■] 100%Epoch 7, Loss: 1.5756907096275916\n",
      "[■■■■■■■■■■■■■■■■■■■■■■■■■■■■■■■■■■■■■■■■] 100%Epoch 8, Loss: 1.5768001767305226\n",
      "[■■■■■■■■■■■                             ] 29%"
     ]
    }
   ],
   "source": [
    "\n",
    "# print(model)\n",
    "trainer = Trainner(model, 20)\n",
    "# trainer.loadModel(\"model_classic_v2.5\")\n",
    "trainer.train()\n",
    "trainer.save(\"densenet121_v1.0\")\n",
    "# trainer.test()\n",
    "trainer.conf_mat()"
   ]
  },
  {
   "cell_type": "code",
   "execution_count": null,
   "metadata": {},
   "outputs": [],
   "source": []
  }
 ],
 "metadata": {
  "kernelspec": {
   "display_name": "Python 3 (ipykernel)",
   "language": "python",
   "name": "python3"
  },
  "language_info": {
   "codemirror_mode": {
    "name": "ipython",
    "version": 3
   },
   "file_extension": ".py",
   "mimetype": "text/x-python",
   "name": "python",
   "nbconvert_exporter": "python",
   "pygments_lexer": "ipython3",
   "version": "3.10.12"
  }
 },
 "nbformat": 4,
 "nbformat_minor": 4
}
