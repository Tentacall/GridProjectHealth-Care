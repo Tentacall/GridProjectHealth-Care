{
 "cells": [
  {
   "cell_type": "code",
   "execution_count": 21,
   "id": "bbb1f6fd-4a80-4dd7-b548-fd59ca9b4c34",
   "metadata": {},
   "outputs": [],
   "source": [
    "def loading_bar( current_value, total_value, bar_length=40):\n",
    "    progress = min(1.0, current_value / total_value)\n",
    "    arrow = '■' * int(progress * bar_length)\n",
    "    spaces = ' ' * (bar_length - len(arrow))\n",
    "    print(f'\\r[{arrow}{spaces}] {int(progress * 100)}%', end='', flush=True)"
   ]
  },
  {
   "cell_type": "code",
   "execution_count": 22,
   "id": "cdb33201-c95e-43f8-bd89-96a10f1d2a29",
   "metadata": {},
   "outputs": [],
   "source": [
    "from utils.dataloader  import load_data\n",
    "import torch\n",
    "from utils.confLoader import *\n",
    "import matplotlib.pyplot as plt\n",
    "import torch.nn as nn\n",
    "import qsimcirq\n",
    "import time\n",
    "import cirq\n",
    "from math import pi\n",
    "import torch.optim as optim\n",
    "import torch.nn.functional as F\n",
    "import os"
   ]
  },
  {
   "cell_type": "code",
   "execution_count": 23,
   "id": "9b85ee6d-2d7a-4683-9281-794c3ceaba06",
   "metadata": {},
   "outputs": [
    {
     "name": "stdout",
     "output_type": "stream",
     "text": [
      "CUDA is available. Training on GPU...\n"
     ]
    }
   ],
   "source": [
    "train_on_gpu = torch.cuda.is_available()\n",
    "if not train_on_gpu:\n",
    "    print('CUDA is not available. Training on CPU...')\n",
    "    device = torch.device('cpu')\n",
    "else:\n",
    "    print('CUDA is available. Training on GPU...')\n",
    "    device = torch.device('cuda:0')\n",
    "# device = torch.device('cpu')"
   ]
  },
  {
   "cell_type": "code",
   "execution_count": 24,
   "id": "ac77bdc3-91b4-4018-b5e8-c40b0eb86d39",
   "metadata": {},
   "outputs": [],
   "source": [
    "loader = load_data(train_labels_path, test_labels_path, train_image_path, test_image_path, columns, itype = '.jpg', batch_size = 4, shuffle=True, do_random_crop = False, device = 'cpu', reduce=True)\n",
    "train_loader, test_loader, valid_loader = loader.create_loader()"
   ]
  },
  {
   "cell_type": "code",
   "execution_count": 26,
   "id": "eeb3e622-6e11-4414-b319-534e89e8c8fc",
   "metadata": {},
   "outputs": [],
   "source": [
    "def display(image_tensor, output_dir, file_name,  save = False, detach=False):\n",
    "    # Assuming image_tensor is of shape [1, 3, 224, 224]\n",
    "    assert len(image_tensor.shape) == 4, \"Invalid input shape\"\n",
    "    \n",
    "    if save and  not os.path.exists(output_dir):\n",
    "        os.makedirs(output_dir)\n",
    "    \n",
    "    if detach:\n",
    "        image_np = image_tensor.detach().cpu().numpy()[0]  # Convert to NumPy array and remove singleton dimensions\n",
    "    else:\n",
    "        image_np = image_tensor.squeeze().detach().numpy()\n",
    "\n",
    "    num_layers = image_np.shape[0]  # Number of layers (channels)\n",
    "    num_rows = (num_layers + 2) // 3  # Calculate the number of rows needed\n",
    "\n",
    "    # Create a grid of subplots for each layer\n",
    "    fig, axes = plt.subplots(num_rows, 3, figsize=(15, 5 * num_rows))\n",
    "\n",
    "    # Flatten axes if we have just one row\n",
    "    if num_rows == 1:\n",
    "        axes = axes.reshape(1, -1)\n",
    "\n",
    "    # Display each layer as a subplot\n",
    "    for i in range(num_layers):\n",
    "        row = i // 3\n",
    "        col = i % 3\n",
    "        axes[row, col].imshow(image_np[i], cmap = \"gray\")\n",
    "        axes[row, col].set_title(f\"Layer {i + 1}\")\n",
    "        axes[row, col].axis('off')  # Turn off axis ticks and labels\n",
    "            \n",
    "            \n",
    "    if save:\n",
    "        img_filename = os.path.join(output_dir, f\"{file_name}.png\")\n",
    "        plt.savefig(img_filename, bbox_inches='tight')\n",
    "        plt.close(fig)\n",
    "        return\n",
    "    plt.tight_layout()\n",
    "    plt.show()"
   ]
  },
  {
   "cell_type": "code",
   "execution_count": 27,
   "id": "dc59614b",
   "metadata": {},
   "outputs": [],
   "source": [
    "def kernel4(P, weight):\n",
    "    circuit = cirq.Circuit()\n",
    "    # bias addition kernel\n",
    "    Q = [cirq.GridQubit(i,0) for i in range(4)]\n",
    "    W = cirq.GridQubit(0,1)\n",
    "    R = cirq.GridQubit(1,1)\n",
    "    keys = [\"q\"]\n",
    "    for i in range(4):\n",
    "        circuit.append(cirq.ry(P[i] * pi).on(Q[i]))\n",
    "    \n",
    "    for i in range(4):\n",
    "        circuit.append(cirq.rx(weight[i]*pi).on(W))\n",
    "        circuit.append(cirq.CCNOT(W, Q[i], R))\n",
    "\n",
    "    circuit.append(cirq.measure(R, key=keys[0]))\n",
    "    \n",
    "    return circuit, keys"
   ]
  },
  {
   "cell_type": "code",
   "execution_count": 28,
   "id": "767b9551",
   "metadata": {},
   "outputs": [],
   "source": [
    "\n",
    "# from models.circuits.ConvKernel import kernel2, kernel3\n",
    "\n",
    "\n",
    "class Quanv2D(nn.Module):\n",
    "    def __init__(\n",
    "        self,\n",
    "        simulator,\n",
    "        in_channels=1,\n",
    "        out_channels=1,\n",
    "        kernel_size=2,\n",
    "        stride=1,\n",
    "        precision=10,\n",
    "    ):\n",
    "        super().__init__()\n",
    "        self.simulator = simulator\n",
    "        self.in_channels = in_channels\n",
    "        self.out_channels = out_channels\n",
    "        self.kernel_size = kernel_size\n",
    "        self.stride = stride\n",
    "        self.kernel = kernel4\n",
    "        self.precision = precision\n",
    "        self.extension_factor = self.out_channels // self.in_channels\n",
    "        self.weight = nn.Parameter(\n",
    "            torch.rand((out_channels, self.kernel_size * self.kernel_size)),\n",
    "            requires_grad=True,\n",
    "        )\n",
    "\n",
    "    def __repr__(self):\n",
    "        return f\"Quanv2D( {self.in_channels}, {self.out_channels}, kernel =({self.kernel_size},{self.kernel_size}) \"\\\n",
    "            f\"stride ={self.stride, self.stride}, precision={self.precision} )\"\n",
    "\n",
    "    def patches_generator(self, image):\n",
    "        image_height, image_width = image.size()\n",
    "        output_height = (image_height - self.kernel_size) // self.stride + 1\n",
    "        output_width = (image_width - self.kernel_size) // self.stride + 1\n",
    "\n",
    "        for h in range(output_height):\n",
    "            for w in range(output_width):\n",
    "                patch = image[\n",
    "                    h * self.stride : (h * self.stride + self.kernel_size),\n",
    "                    w * self.stride : (w * self.stride + self.kernel_size),\n",
    "                ]\n",
    "                patch = patch.reshape(self.kernel_size * self.kernel_size).tolist()\n",
    "                yield patch, h, w\n",
    "\n",
    "    def forward(self, x):\n",
    "        self.inputs = x\n",
    "        print(x.requires_grad)\n",
    "        kernel_height, kernel_width = (2, 2)\n",
    "        count, in_channels, image_height, image_width = x.size()\n",
    "        expansion = self.in_channels * 4 == self.out_channels\n",
    "        output_height = (image_height - kernel_height) // self.stride + 1\n",
    "        output_weidth = (image_width - kernel_width) // self.stride + 1\n",
    "        result = torch.zeros(count, self.out_channels, output_height, output_weidth)\n",
    "        for c in range(count):\n",
    "            print(\"c = \", c)\n",
    "            for ic in range(in_channels):\n",
    "                print(\"ic = \", ic)\n",
    "                for patch, h, w in self.patches_generator(x[c][ic]):\n",
    "                    for t in range(self.extension_factor):\n",
    "                        W = [\n",
    "                            w.item()\n",
    "                            for w in self.weight[ic * self.extension_factor + t]\n",
    "                        ]\n",
    "                        circuit, keys = self.kernel(patch, W)\n",
    "                        res = self.simulator.run(circuit, repetitions=self.precision)\n",
    "                        result[c][ic * self.extension_factor + t][h][w] = (\n",
    "                            res.histogram(key=\"q\")[1] * 0.1\n",
    "                        )\n",
    "        result.requires_grad = True\n",
    "        return result\n",
    "\n",
    "    "
   ]
  },
  {
   "cell_type": "code",
   "execution_count": 29,
   "id": "4fec2216",
   "metadata": {},
   "outputs": [],
   "source": [
    "class QuantamModel(nn.Module):\n",
    "    def __init__(self):\n",
    "        super().__init__()\n",
    "\n",
    "    def forward(self, x):\n",
    "        # x = self.convq_3_3(x)\n",
    "        # display(x,\"images\",\"convq\", False, True)\n",
    "        return x"
   ]
  },
  {
   "cell_type": "code",
   "execution_count": 31,
   "id": "496d685c-4320-4de5-a2dc-d49cf8fc0a06",
   "metadata": {},
   "outputs": [
    {
     "ename": "NameError",
     "evalue": "name 'QClassifier' is not defined",
     "output_type": "error",
     "traceback": [
      "\u001b[0;31m---------------------------------------------------------------------------\u001b[0m",
      "\u001b[0;31mNameError\u001b[0m                                 Traceback (most recent call last)",
      "Cell \u001b[0;32mIn[31], line 3\u001b[0m\n\u001b[1;32m      1\u001b[0m \u001b[39m# simulator = qsimcirq.QSimSimulator()\u001b[39;00m\n\u001b[1;32m      2\u001b[0m \u001b[39m# model2 = Quanv2D(simulator, in_channels = 3, out_channels = 6, kernel_size = 2, stride = 2)\u001b[39;00m\n\u001b[0;32m----> 3\u001b[0m model2 \u001b[39m=\u001b[39m QClassifier()\n\u001b[1;32m      4\u001b[0m model2 \u001b[39m=\u001b[39m model2\u001b[39m.\u001b[39mto(device)\n\u001b[1;32m      5\u001b[0m \u001b[39m# criterion = nn.CrossEntropyLoss()\u001b[39;00m\n\u001b[1;32m      6\u001b[0m \u001b[39m# optimizer = optim.SGD(model.parameters(), lr=0.001, momentum=0.9)\u001b[39;00m\n",
      "\u001b[0;31mNameError\u001b[0m: name 'QClassifier' is not defined"
     ]
    }
   ],
   "source": [
    "\n",
    "# simulator = qsimcirq.QSimSimulator()\n",
    "# model2 = Quanv2D(simulator, in_channels = 3, out_channels = 6, kernel_size = 2, stride = 2)\n",
    "model2 = QClassifier()\n",
    "model2 = model2.to(device)\n",
    "# criterion = nn.CrossEntropyLoss()\n",
    "# optimizer = optim.SGD(model.parameters(), lr=0.001, momentum=0.9)"
   ]
  },
  {
   "cell_type": "code",
   "execution_count": 32,
   "id": "f3a92923-d9dc-46ed-a4fb-8d86131ed17a",
   "metadata": {},
   "outputs": [
    {
     "ename": "RuntimeError",
     "evalue": "only Tensors of floating point and complex dtype can require gradients",
     "output_type": "error",
     "traceback": [
      "\u001b[0;31m---------------------------------------------------------------------------\u001b[0m",
      "\u001b[0;31mRuntimeError\u001b[0m                              Traceback (most recent call last)",
      "Cell \u001b[0;32mIn[32], line 5\u001b[0m\n\u001b[1;32m      3\u001b[0m \u001b[39mfor\u001b[39;00m i, data \u001b[39min\u001b[39;00m \u001b[39menumerate\u001b[39m(test_loader):\n\u001b[1;32m      4\u001b[0m     inputs, labels \u001b[39m=\u001b[39m data[\u001b[39m'\u001b[39m\u001b[39mimage\u001b[39m\u001b[39m'\u001b[39m], data[\u001b[39m'\u001b[39m\u001b[39mlabel\u001b[39m\u001b[39m'\u001b[39m]\u001b[39m.\u001b[39mview(\u001b[39m1\u001b[39m,\u001b[39m-\u001b[39m\u001b[39m1\u001b[39m)\n\u001b[0;32m----> 5\u001b[0m     inputs\u001b[39m.\u001b[39;49mrequires_grad \u001b[39m=\u001b[39m \u001b[39mTrue\u001b[39;00m\n\u001b[1;32m      6\u001b[0m     inputs, labels \u001b[39m=\u001b[39m inputs\u001b[39m.\u001b[39mto(device), labels\u001b[39m.\u001b[39mto(device)\n\u001b[1;32m      7\u001b[0m     \u001b[39mbreak\u001b[39;00m\n",
      "\u001b[0;31mRuntimeError\u001b[0m: only Tensors of floating point and complex dtype can require gradients"
     ]
    }
   ],
   "source": [
    "outputs2 = None\n",
    "outputs = None\n",
    "for i, data in enumerate(test_loader):\n",
    "    inputs, labels = data['image'], data['label'].view(1,-1)\n",
    "    inputs.requires_grad = True\n",
    "    inputs, labels = inputs.to(device), labels.to(device)\n",
    "    break\n",
    "    # display(inputs)\n",
    "    start = time.time()\n",
    "    outputs2 = model2(inputs)\n",
    "\n",
    "    print(outputs2.size())\n",
    "    delta = time.time() - start\n",
    "    print(f\"Finished training in {delta:0.6f} sec\")\n",
    "    break\n",
    "# display(outputs2, True)"
   ]
  },
  {
   "cell_type": "code",
   "execution_count": null,
   "id": "7b5387ba",
   "metadata": {},
   "outputs": [],
   "source": [
    "# total_loss = 0\n",
    "# start_time = time.time()\n",
    "# for epoch in range(1):\n",
    "#     print(f\"Running Epoch no: {epoch+1}\")\n",
    "#     for i, data in enumerate(test_loader):\n",
    "#         torch.autograd.set_detect_anomaly(True)\n",
    "#         inputs, labels = data['image'], data['label']\n",
    "#         print(inputs.shape, labels)\n",
    "#         optimizer.zero_grad()\n",
    "#         outputs = model(inputs)\n",
    "#         # print(inputs.size(), outputs.size(), labels.size())\n",
    "#         print(outputs)\n",
    "#         loss = criterion(outputs, labels)\n",
    "#         print(\"loss :\",loss)\n",
    "#         loss.backward()\n",
    "#         optimizer.step()\n",
    "#         total_loss += loss.item()\n",
    "#         loading_bar(i, 24)\n",
    "#         # break\n",
    "# delta = time.time() - start_time\n",
    "# print(f\"Finished training in {delta:0.6f} sec\")\n",
    "# print(\"Total Loss : \", total_loss)"
   ]
  },
  {
   "cell_type": "code",
   "execution_count": null,
   "id": "24ae9a92-cc82-40a9-b83f-16d26af90e20",
   "metadata": {},
   "outputs": [],
   "source": [
    "# model.zero_grad()\n",
    "# # loss = model.backward(outputs2)\n",
    "# loss = outputs2 - outputs  # Replace with your actual loss computation\n",
    "# # loss_scalar = loss.mean()\n",
    "# print(loss)\n",
    "# loss.backward()\n",
    "# # loss.backward()"
   ]
  },
  {
   "cell_type": "code",
   "execution_count": null,
   "id": "c82815eb",
   "metadata": {},
   "outputs": [],
   "source": [
    "# # define two tensors\n",
    "# A = torch.tensor(2., requires_grad=True)\n",
    "# print(\"Tensor-A:\", A)\n",
    "# B = torch.tensor(5., requires_grad=True)\n",
    "# print(\"Tensor-B:\", B)\n",
    "  \n",
    "# # define a function using above defined\n",
    "# # tensors\n",
    "# optimizer = optim.SGD([A,B], lr=0.5)\n",
    "# for i in range(10):\n",
    "#     optimizer.zero_grad()\n",
    "#     loss = B - A\n",
    "#     print(\"loss :\", loss)\n",
    "#     # call the backward method\n",
    "#     loss.backward()\n",
    "#     optimizer.step()\n",
    "#     print(\"A:grad\", A.grad, A)\n",
    "#     print(\"B.grad:\", B.grad, B)\n",
    "#     print()\n",
    "# # print the gradients using .grad"
   ]
  },
  {
   "cell_type": "code",
   "execution_count": null,
   "id": "fcdd6a18",
   "metadata": {},
   "outputs": [],
   "source": []
  },
  {
   "cell_type": "markdown",
   "id": "00471a89",
   "metadata": {},
   "source": []
  }
 ],
 "metadata": {
  "kernelspec": {
   "display_name": "Python 3 (ipykernel)",
   "language": "python",
   "name": "python3"
  },
  "language_info": {
   "codemirror_mode": {
    "name": "ipython",
    "version": 3
   },
   "file_extension": ".py",
   "mimetype": "text/x-python",
   "name": "python",
   "nbconvert_exporter": "python",
   "pygments_lexer": "ipython3",
   "version": "3.10.12"
  }
 },
 "nbformat": 4,
 "nbformat_minor": 5
}
