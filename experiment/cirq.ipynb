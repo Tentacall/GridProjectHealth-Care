{
 "cells": [
  {
   "cell_type": "code",
   "execution_count": 1,
   "metadata": {},
   "outputs": [
    {
     "name": "stderr",
     "output_type": "stream",
     "text": [
      "2023-08-19 07:15:22.145043: I tensorflow/core/platform/cpu_feature_guard.cc:182] This TensorFlow binary is optimized to use available CPU instructions in performance-critical operations.\n",
      "To enable the following instructions: AVX2 FMA, in other operations, rebuild TensorFlow with the appropriate compiler flags.\n",
      "2023-08-19 07:15:23.967180: W tensorflow/compiler/tf2tensorrt/utils/py_utils.cc:38] TF-TRT Warning: Could not find TensorRT\n"
     ]
    }
   ],
   "source": [
    "import cirq\n",
    "from math import pi\n",
    "# import tensorflow as tf\n",
    "from tensorflow.keras.datasets import mnist\n",
    "import matplotlib.pyplot as plt\n",
    "import numpy as np\n",
    "import qsimcirq"
   ]
  },
  {
   "cell_type": "code",
   "execution_count": 2,
   "metadata": {},
   "outputs": [],
   "source": [
    "(train_images, train_labels), (test_images, test_labels) = mnist.load_data()\n"
   ]
  },
  {
   "cell_type": "code",
   "execution_count": 3,
   "metadata": {},
   "outputs": [
    {
     "name": "stdout",
     "output_type": "stream",
     "text": [
      "Train images shape: (60000, 28, 28)\n",
      "Train labels shape: (60000,)\n",
      "Test images shape: (10000, 28, 28)\n",
      "Test labels shape: (10000,)\n",
      "Training samples: 100\n",
      "Testing samples: 30\n"
     ]
    }
   ],
   "source": [
    "# Print dataset shapes\n",
    "print(\"Train images shape:\", train_images.shape)\n",
    "print(\"Train labels shape:\", train_labels.shape)\n",
    "print(\"Test images shape:\", test_images.shape)\n",
    "print(\"Test labels shape:\", test_labels.shape)\n",
    "\n",
    "# You can further divide the training dataset into training and validation sets if needed\n",
    "# Example: Splitting into 80% training and 20% validation\n",
    "num_train_samples = 100\n",
    "num_test_samples = 30\n",
    "x_train, y_train = train_images[:num_train_samples], train_labels[:num_train_samples]\n",
    "x_test, y_test = test_images[:num_test_samples], test_labels[:num_test_samples]\n",
    "\n",
    "print(\"Training samples:\", len(x_train))\n",
    "print(\"Testing samples:\", len(x_test))\n",
    "\n"
   ]
  },
  {
   "cell_type": "code",
   "execution_count": 4,
   "metadata": {},
   "outputs": [],
   "source": [
    "def qc1(x):\n",
    "    q0 = cirq.GridQubit(0, 0)\n",
    "    q1 = cirq.GridQubit(0, 1)\n",
    "    \n",
    "    circuit = cirq.Circuit(\n",
    "        cirq.rx(x).on(q0),\n",
    "        cirq.CNOT(q0, q1),\n",
    "        cirq.measure(q0, key='z0'),\n",
    "        cirq.measure(q1, key='z1')\n",
    "    )\n",
    "    \n",
    "    return circuit, ['z0', 'z1']"
   ]
  },
  {
   "cell_type": "code",
   "execution_count": 5,
   "metadata": {},
   "outputs": [],
   "source": [
    "class Kernel:\n",
    "    def __init__(self):\n",
    "        self.weight = [255,255,255,255]\n",
    "    \n",
    "    def update_weight(self, w):\n",
    "        self.weight = w\n",
    "    \n",
    "    def kernel1(self, P):\n",
    "        # detects edge for weight (255,255,255)\n",
    "        Q = [cirq.GridQubit(i,0) for i in range(4)]\n",
    "        keys = [\"q0\", \"q1\", \"q2\", \"q3\"]\n",
    "\n",
    "        circuit = cirq.Circuit()\n",
    "        for i in range(4):\n",
    "            circuit.append(cirq.ry((P[i] + self.weight[i])/255 *pi).on(Q[i]))\n",
    "\n",
    "        for i in range(3):\n",
    "            circuit.append(cirq.CNOT(Q[i],Q[i+1]))\n",
    "        \n",
    "        for i in range(4):\n",
    "            circuit.append(cirq.measure(Q[i], key=keys[i]))\n",
    "        \n",
    "        return circuit, keys\n",
    "\n",
    "    def kernel2(self, P):\n",
    "        Q = [cirq.GridQubit(i,0) for i in range(4)]\n",
    "        W = [cirq.GridQubit(i,1) for i in range(3)]\n",
    "        keys = [\"q0\", \"q1\", \"q2\", \"q3\"]\n",
    "\n",
    "        circuit = cirq.Circuit()\n",
    "        # for i in range(4):\n",
    "        #     circuit.append(cirq.H(Q[i]))\n",
    "\n",
    "        for i in range(4):\n",
    "            circuit.append(cirq.ry(P[i]/255 * pi).on(Q[i]))\n",
    "        \n",
    "        for i in range(3):\n",
    "            circuit.append(cirq.rz(self.weight[i]/255 * pi).on(W[i]))\n",
    "        \n",
    "        for i in range(3):\n",
    "            circuit.append(cirq.TOFFOLI(W[i], Q[i], Q[i+1]))\n",
    "\n",
    "        for i in range(3):\n",
    "            circuit.append(cirq.ZZ(Q[i], Q[i+1]))\n",
    "        \n",
    "        for i in range(4):\n",
    "            circuit.append(cirq.measure(Q[i], key=keys[i]))\n",
    "        return circuit, keys\n",
    "        \n",
    "    # def kernel3(self, P):\n",
    "    #     Q = \n",
    "\n",
    "    "
   ]
  },
  {
   "cell_type": "code",
   "execution_count": 6,
   "metadata": {},
   "outputs": [],
   "source": [
    "def main(circuit, keys):\n",
    "    # circuit = simple_quantum_circuit()\n",
    "    print(\"Quantum Circuit:\")\n",
    "    print(circuit)\n",
    "\n",
    "    # Use a simulator to run the quantum circuit\n",
    "    # simulator = cirq.Simulator()\n",
    "    simulator = qsimcirq.QSimSimulator()\n",
    "    result = simulator.run(circuit, repetitions=1000)\n",
    "\n",
    "    # Print the measurement results\n",
    "    print(\"\\nMeasurement Results:\")\n",
    "    # print(result, type(result))\n",
    "    for k in keys:\n",
    "      print(k, \": \",result.histogram(key=k), (result.histogram(key=k)[1]))"
   ]
  },
  {
   "cell_type": "code",
   "execution_count": 7,
   "metadata": {},
   "outputs": [
    {
     "name": "stdout",
     "output_type": "stream",
     "text": [
      "Quantum Circuit:\n",
      "(0, 0): ───Ry(0)────────@───────ZZ───M('q0')───────────────────────\n",
      "                        │       │\n",
      "(0, 1): ───Rz(π)────────@───────┼──────────────────────────────────\n",
      "                        │       │\n",
      "(1, 0): ───Ry(0.047π)───X───@───ZZ───ZZ────────M('q1')─────────────\n",
      "                            │        │\n",
      "(1, 1): ───Rz(π)────────────@────────┼─────────────────────────────\n",
      "                            │        │\n",
      "(2, 0): ───Ry(0.902π)───────X───@────ZZ────────ZZ────────M('q2')───\n",
      "                                │              │\n",
      "(2, 1): ───Rz(π)────────────────@──────────────┼───────────────────\n",
      "                                │              │\n",
      "(3, 0): ───Ry(0)────────────────X──────────────ZZ────────M('q3')───\n",
      "\n",
      "Measurement Results:\n",
      "q0 :  Counter({0: 1000}) 0\n",
      "q1 :  Counter({0: 997, 1: 3}) 3\n",
      "q2 :  Counter({1: 971, 0: 29}) 971\n",
      "q3 :  Counter({0: 1000}) 0\n"
     ]
    }
   ],
   "source": [
    "circuit, keys = Kernel().kernel2([0,12,230,0])\n",
    "main(circuit, keys)"
   ]
  },
  {
   "cell_type": "code",
   "execution_count": null,
   "metadata": {},
   "outputs": [],
   "source": [
    "# num_images_to_display = 10\n",
    "\n",
    "# plt.figure(figsize=(12, 8))\n",
    "# for i in range(num_images_to_display):\n",
    "#     plt.subplot(2, 5, i + 1)\n",
    "#     plt.imshow(train_images[i], cmap='gray')\n",
    "#     plt.title(f\"Image {i+1}\")\n",
    "#     plt.axis('off')\n",
    "\n",
    "# plt.tight_layout()\n",
    "# plt.show()\n"
   ]
  },
  {
   "cell_type": "code",
   "execution_count": 10,
   "metadata": {},
   "outputs": [
    {
     "name": "stdout",
     "output_type": "stream",
     "text": [
      "(28, 28)\n",
      "Image processed in:  0.236923sec\n",
      "Done\n"
     ]
    }
   ],
   "source": [
    "def apply_kernel(image, kernel, simulator):\n",
    "    print(image.shape)\n",
    "    image_height, image_width = image.shape\n",
    "    kernel_height, kernel_width = (2,2)\n",
    "    result = np.zeros((14,14,4))\n",
    "    for i in range(0,image_height - kernel_height + 1,2):\n",
    "        for j in range(0,image_width - kernel_width + 1,2):\n",
    "            P = image[i:i+kernel_height, j:j+kernel_width]\n",
    "            P = [P[0][0], P[0][1], P[1][0], P[1][1]]\n",
    "            circuit, keys = kernel.kernel2(P)\n",
    "            res = simulator.run(circuit, repetitions=10)\n",
    "            result[i//2][j//2] = [ res.histogram(key=keys[i])[1] * 25.5 for i in range(4)]\n",
    "            # print(result[i][j])\n",
    "    # print(result)\n",
    "    return result\n",
    "\n",
    "import time\n",
    "kernel = Kernel()\n",
    "kernel.update_weight([255,255,255,255])\n",
    "# simulator = cirq.Simulator()\n",
    "simulator = qsimcirq.QSimSimulator()\n",
    "then = time.time()\n",
    "processed_image = apply_kernel(train_images[0], kernel, simulator)\n",
    "delta = time.time() - then\n",
    "print(f\"Image processed in: {delta: .6f}sec\") \n",
    "print(\"Done\")"
   ]
  },
  {
   "cell_type": "code",
   "execution_count": 9,
   "metadata": {},
   "outputs": [
    {
     "name": "stderr",
     "output_type": "stream",
     "text": [
      "Clipping input data to the valid range for imshow with RGB data ([0..1] for floats or [0..255] for integers).\n"
     ]
    },
    {
     "data": {
      "image/png": "[encoded data removed]",
      "text/plain": [
       "<Figure size 1000x500 with 2 Axes>"
      ]
     },
     "metadata": {},
     "output_type": "display_data"
    }
   ],
   "source": [
    "# Display the original and processed images\n",
    "plt.figure(figsize=(10, 5))\n",
    "\n",
    "plt.subplot(1, 2, 1)\n",
    "plt.imshow(train_images[0], cmap='gray')\n",
    "plt.title(\"Original Image\")\n",
    "plt.axis('off')\n",
    "\n",
    "plt.subplot(1, 2, 2)\n",
    "plt.imshow(processed_image, cmap='gray')\n",
    "plt.title(\"Processed Image\")\n",
    "plt.axis('off')\n",
    "\n",
    "plt.tight_layout()\n",
    "plt.show()"
   ]
  },
  {
   "cell_type": "code",
   "execution_count": 12,
   "metadata": {},
   "outputs": [
    {
     "data": {
      "image/png": "[encoded data removed]",
      "text/plain": [
       "<Figure size 1200x600 with 4 Axes>"
      ]
     },
     "metadata": {},
     "output_type": "display_data"
    },
    {
     "data": {
      "image/png": "[encoded data removed]",
      "text/plain": [
       "<Figure size 600x600 with 1 Axes>"
      ]
     },
     "metadata": {},
     "output_type": "display_data"
    }
   ],
   "source": [
    "# Generate some example data\n",
    "image_shape = processed_image.shape\n",
    "image_data = processed_image\n",
    "\n",
    "# Visualize individual layers\n",
    "num_layers = image_shape[-1]\n",
    "plt.figure(figsize=(12, 6))\n",
    "for i in range(num_layers):\n",
    "    plt.subplot(2, num_layers // 2, i + 1)\n",
    "    plt.imshow(image_data[:, :, i], cmap='viridis')\n",
    "    plt.title(f'Layer {i}')\n",
    "    plt.axis('off')\n",
    "plt.tight_layout()\n",
    "plt.show()\n",
    "\n",
    "# Combine layers\n",
    "combined_image = np.sum(image_data, axis=-1)  # Sum the channels for visualization\n",
    "plt.figure(figsize=(6, 6))\n",
    "plt.imshow(combined_image, cmap='viridis')\n",
    "plt.title('Combined Layers')\n",
    "plt.axis('off')\n",
    "plt.show()"
   ]
  },
  {
   "cell_type": "code",
   "execution_count": 11,
   "metadata": {},
   "outputs": [
    {
     "name": "stdout",
     "output_type": "stream",
     "text": [
      "None\n"
     ]
    }
   ],
   "source": [
    "print(qsimcirq.qsim_gpu)"
   ]
  },
  {
   "cell_type": "code",
   "execution_count": null,
   "metadata": {},
   "outputs": [],
   "source": []
  }
 ],
 "metadata": {
  "kernelspec": {
   "display_name": "Python 3 (ipykernel)",
   "language": "python",
   "name": "python3"
  },
  "language_info": {
   "codemirror_mode": {
    "name": "ipython",
    "version": 3
   },
   "file_extension": ".py",
   "mimetype": "text/x-python",
   "name": "python",
   "nbconvert_exporter": "python",
   "pygments_lexer": "ipython3",
   "version": "3.10.12"
  }
 },
 "nbformat": 4,
 "nbformat_minor": 4
}
