{
 "cells": [
  {
   "cell_type": "code",
   "execution_count": 1,
   "metadata": {},
   "outputs": [],
   "source": [
    "import cirq"
   ]
  },
  {
   "cell_type": "code",
   "execution_count": 7,
   "metadata": {},
   "outputs": [],
   "source": [
    "def qc1(x):\n",
    "    q0 = cirq.GridQubit(0, 0)\n",
    "    q1 = cirq.GridQubit(0, 1)\n",
    "    \n",
    "    circuit = cirq.Circuit(\n",
    "        cirq.rx(x).on(q0),\n",
    "        cirq.CNOT(q0, q1),\n",
    "        cirq.measure(q0, key='z0'),\n",
    "        cirq.measure(q1, key='z1')\n",
    "    )\n",
    "    \n",
    "    return circuit, ['z0', 'z1']"
   ]
  },
  {
   "cell_type": "code",
   "execution_count": 4,
   "metadata": {},
   "outputs": [],
   "source": [
    "def main(circuit, keys):\n",
    "    # circuit = simple_quantum_circuit()\n",
    "    print(\"Quantum Circuit:\")\n",
    "    print(circuit)\n",
    "\n",
    "    # Use a simulator to run the quantum circuit\n",
    "    simulator = cirq.Simulator()\n",
    "    result = simulator.run(circuit, repetitions=1000)\n",
    "\n",
    "    # Print the measurement results\n",
    "    print(\"\\nMeasurement Results:\")\n",
    "    for k in keys:\n",
    "      print(k, \": \",result.histogram(key=k))"
   ]
  },
  {
   "cell_type": "code",
   "execution_count": 9,
   "metadata": {},
   "outputs": [
    {
     "name": "stdout",
     "output_type": "stream",
     "text": [
      "Quantum Circuit:\n",
      "(0, 0): ───Rx(0.178π)───@───M('z0')───\n",
      "                        │\n",
      "(0, 1): ────────────────X───M('z1')───\n",
      "\n",
      "Measurement Results:\n",
      "z0 :  Counter({0: 924, 1: 76})\n",
      "z1 :  Counter({0: 924, 1: 76})\n"
     ]
    }
   ],
   "source": [
    "circuit, keys = qc1(0.56)\n",
    "main(circuit, keys)"
   ]
  }
 ],
 "metadata": {
  "kernelspec": {
   "display_name": "venv",
   "language": "python",
   "name": "python3"
  },
  "language_info": {
   "codemirror_mode": {
    "name": "ipython",
    "version": 3
   },
   "file_extension": ".py",
   "mimetype": "text/x-python",
   "name": "python",
   "nbconvert_exporter": "python",
   "pygments_lexer": "ipython3",
   "version": "3.7.0"
  },
  "orig_nbformat": 4
 },
 "nbformat": 4,
 "nbformat_minor": 2
}
