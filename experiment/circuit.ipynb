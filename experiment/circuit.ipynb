{
 "cells": [
  {
   "cell_type": "code",
   "execution_count": 13,
   "id": "cdb33201-c95e-43f8-bd89-96a10f1d2a29",
   "metadata": {},
   "outputs": [
    {
     "ename": "ModuleNotFoundError",
     "evalue": "No module named 'utils'",
     "output_type": "error",
     "traceback": [
      "\u001b[0;31m---------------------------------------------------------------------------\u001b[0m",
      "\u001b[0;31mModuleNotFoundError\u001b[0m                       Traceback (most recent call last)",
      "Cell \u001b[0;32mIn[13], line 1\u001b[0m\n\u001b[0;32m----> 1\u001b[0m \u001b[38;5;28;01mimport\u001b[39;00m \u001b[38;5;21;01mutils\u001b[39;00m\n",
      "\u001b[0;31mModuleNotFoundError\u001b[0m: No module named 'utils'"
     ]
    }
   ],
   "source": [
    "import utils."
   ]
  },
  {
   "cell_type": "code",
   "execution_count": null,
   "id": "9b85ee6d-2d7a-4683-9281-794c3ceaba06",
   "metadata": {},
   "outputs": [],
   "source": [
    "train_on_gpu = torch.cuda.is_available()\n",
    "if not train_on_gpu:\n",
    "    print('CUDA is not available. Training on CPU...')\n",
    "    device = torch.device('cpu')\n",
    "else:\n",
    "    print('CUDA is available. Training on GPU...')\n",
    "    device = torch.device('cuda:0')"
   ]
  },
  {
   "cell_type": "code",
   "execution_count": 2,
   "id": "916d024f-a492-4e4a-8e7b-dc5675d3dceb",
   "metadata": {},
   "outputs": [
    {
     "name": "stdout",
     "output_type": "stream",
     "text": [
      "output:  tensor(1.0483, grad_fn=<NllLossBackward0>)\n",
      "input:  tensor([[-0.7490,  0.4767,  0.1771, -0.0045, -1.2547],\n",
      "        [ 0.8687,  0.2368, -0.0213,  0.6731, -0.8319],\n",
      "        [-1.0671,  0.6665,  0.6275,  1.1106,  1.3952]], requires_grad=True)\n",
      "target:  tensor([1, 0, 4])\n",
      "output:  tensor(1.0483, grad_fn=<NllLossBackward0>)\n"
     ]
    }
   ],
   "source": [
    "import torch\n",
    "import torch.nn as nn\n",
    "\n",
    "# size of input (N x C) is = 3 x 5\n",
    "input = torch.randn(3, 5, requires_grad=True)\n",
    "# every element in target should have 0 <= value < C\n",
    "target = torch.tensor([1, 0, 4])\n",
    "\n",
    "m = nn.LogSoftmax(dim=1)\n",
    "nll_loss = nn.NLLLoss()\n",
    "output = nll_loss(m(input), target)\n",
    "print('output: ', output)\n",
    "output.backward()\n",
    "\n",
    "print('input: ', input)\n",
    "print('target: ', target)\n",
    "print('output: ', output)"
   ]
  },
  {
   "cell_type": "code",
   "execution_count": 13,
   "id": "b7377c5f-c854-4465-9a58-a0899acc605b",
   "metadata": {},
   "outputs": [
    {
     "data": {
      "text/plain": [
       "torch.Size([4])"
      ]
     },
     "execution_count": 13,
     "metadata": {},
     "output_type": "execute_result"
    }
   ],
   "source": [
    "tensor = torch.tensor([[1.0], [2.0], [3.0], [4.0]])\n",
    "tensor = tensor.squeeze(1)\n",
    "tensor.size()\n"
   ]
  },
  {
   "cell_type": "code",
   "execution_count": null,
   "id": "86d5c888",
   "metadata": {},
   "outputs": [],
   "source": []
  },
  {
   "cell_type": "code",
   "execution_count": null,
   "id": "2b1aec89",
   "metadata": {},
   "outputs": [],
   "source": []
  }
 ],
 "metadata": {
  "kernelspec": {
   "display_name": "Python 3 (ipykernel)",
   "language": "python",
   "name": "python3"
  },
  "language_info": {
   "codemirror_mode": {
    "name": "ipython",
    "version": 3
   },
   "file_extension": ".py",
   "mimetype": "text/x-python",
   "name": "python",
   "nbconvert_exporter": "python",
   "pygments_lexer": "ipython3",
   "version": "3.10.12"
  }
 },
 "nbformat": 4,
 "nbformat_minor": 5
}
