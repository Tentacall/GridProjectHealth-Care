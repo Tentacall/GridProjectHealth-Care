{
 "cells": [
  {
   "cell_type": "code",
   "execution_count": 15,
   "metadata": {
    "id": "ReDnNYECN3iH"
   },
   "outputs": [],
   "source": [
    "import torch\n",
    "import torch.nn as nn\n",
    "import torch.optim as optim\n",
    "import torchvision\n",
    "import torchvision.transforms as transforms\n",
    "import cirq\n",
    "from math import pi\n",
    "import qsimcirq\n",
    "import time"
   ]
  },
  {
   "cell_type": "code",
   "execution_count": 16,
   "metadata": {
    "id": "MD_fteZ_pdgA"
   },
   "outputs": [
    {
     "name": "stdout",
     "output_type": "stream",
     "text": [
      "Using device : cuda\n"
     ]
    }
   ],
   "source": [
    "device = 'cuda' if torch.cuda.is_available() else 'cpu'\n",
    "print(f\"Using device : {device}\")"
   ]
  },
  {
   "cell_type": "code",
   "execution_count": 17,
   "metadata": {
    "id": "DY4Eca_AdMoG"
   },
   "outputs": [],
   "source": [
    "transform = transforms.Compose([transforms.ToTensor(), transforms.Normalize((0.5,), (0.5,))])\n",
    "trainset = torchvision.datasets.MNIST(root='./data', train=True, download=True, transform=transform)\n",
    "trainloader = torch.utils.data.DataLoader(trainset, batch_size=30, shuffle=True)"
   ]
  },
  {
   "cell_type": "code",
   "execution_count": 18,
   "metadata": {
    "id": "E5IhZEZkf9Sq"
   },
   "outputs": [],
   "source": [
    "testset = torchvision.datasets.MNIST(root='./data', train=False, download=True, transform=transform)\n",
    "testloader = torch.utils.data.DataLoader(testset, batch_size=30, shuffle=False)"
   ]
  },
  {
   "cell_type": "code",
   "execution_count": 19,
   "metadata": {},
   "outputs": [],
   "source": [
    "def print_custom_loading_bar(current_value, total_value, bar_length=40):\n",
    "    progress = min(1.0, current_value / total_value)\n",
    "    arrow = '■' * int(progress * bar_length)\n",
    "    spaces = ' ' * (bar_length - len(arrow))\n",
    "    print(f'\\r[{arrow}{spaces}] {int(progress * 100)}%', end='', flush=True)"
   ]
  },
  {
   "cell_type": "code",
   "execution_count": 20,
   "metadata": {
    "id": "Ze0OQDeUuNjt"
   },
   "outputs": [],
   "source": [
    "class QuantamConv2d(nn.Module):\n",
    "    def __init__(self):\n",
    "        super(QuantamConv2d, self).__init__()\n",
    "        self.weight = nn.Parameter(torch.ones(4))*100\n",
    "        self.bias = nn.Parameter(torch.zeros(4))\n",
    "        self.simulator = qsimcirq.QSimSimulator()\n",
    "\n",
    "\n",
    "    def forward(self, x):\n",
    "        kernel_height, kernel_width = (2,2)\n",
    "        assert x.size() == ( 30, 1, 28, 28 )\n",
    "        batch, _, image_height, image_width = x.size()\n",
    "        result = torch.zeros(30, 1, 14, 14)\n",
    "        for z in range(30):\n",
    "            for i in range(0,image_height - kernel_height + 1,2):\n",
    "                for j in range(0,image_width - kernel_width + 1,2):\n",
    "                    P = x[z][0][i:i+kernel_height, j:j+kernel_width]\n",
    "                    P = [P[0][0], P[0][1], P[1][0], P[1][1]]\n",
    "                    circuit, keys = self.kernel(P)\n",
    "                    res = self.simulator.run(circuit, repetitions=10)\n",
    "                    # print(res.histogram(key=keys[3]))\n",
    "                    try:\n",
    "                        result[z][0][i//2][j//2] = res.histogram(key=keys[3])[1] * 0.1\n",
    "                    except:\n",
    "                        result[z][0][i//2][j//2] = 0\n",
    "        return result\n",
    "    \n",
    "    def backward():\n",
    "        pass\n",
    "\n",
    "    def kernel(self, P):\n",
    "        Q = [cirq.GridQubit(i,0) for i in range(4)]\n",
    "        W = [cirq.GridQubit(i,1) for i in range(3)]\n",
    "        keys = [\"q0\", \"q1\", \"q2\", \"q3\"]\n",
    "\n",
    "        circuit = cirq.Circuit()\n",
    "        # for i in range(4):\n",
    "        #     circuit.append(cirq.H(Q[i]))\n",
    "\n",
    "        weight = self.weight.tolist()\n",
    "\n",
    "        for i in range(4):\n",
    "            circuit.append(cirq.ry(P[i].item()/255 * pi).on(Q[i]))\n",
    "\n",
    "        for i in range(3):\n",
    "            circuit.append(cirq.rx(weight[i]/255 * pi).on(W[i]))\n",
    "\n",
    "        for i in range(3):\n",
    "            circuit.append(cirq.TOFFOLI(W[i], Q[i], Q[i+1]))\n",
    "\n",
    "        for i in range(3):\n",
    "            circuit.append(cirq.ZZ(Q[i], Q[i+1]))\n",
    "\n",
    "        for i in range(4):\n",
    "            circuit.append(cirq.measure(Q[i], key=keys[i]))\n",
    "        return circuit, keys\n",
    "\n"
   ]
  },
  {
   "cell_type": "code",
   "execution_count": 21,
   "metadata": {
    "id": "e-_wYYHRhegu"
   },
   "outputs": [],
   "source": [
    "class CustomLayer(nn.Module):\n",
    "    def __init__(self):\n",
    "        super(CustomLayer, self).__init__()\n",
    "        self.conv1 = QuantamConv2d()\n",
    "\n",
    "    def forward(self, x):\n",
    "        # print(\"before : \", x.shape)\n",
    "        x = torch.relu(self.conv1(x))\n",
    "        # print(\"after : \", x.shape)\n",
    "        return x"
   ]
  },
  {
   "cell_type": "code",
   "execution_count": 22,
   "metadata": {
    "id": "5jtizQATRNWe"
   },
   "outputs": [],
   "source": [
    "# Define the CNN model\n",
    "class Net(nn.Module):\n",
    "    def __init__(self):\n",
    "        super(Net, self).__init__()\n",
    "        self.custom_layer = CustomLayer()\n",
    "        self.fc1 = nn.Linear(14*14, 120)\n",
    "        self.fc2 = nn.Linear(120, 84)\n",
    "        self.fc3 = nn.Linear(84, 10)\n",
    "        self.conv = nn.Conv2d(in_channels=1, out_channels=1, kernel_size=2, stride=2)\n",
    "\n",
    "    def forward(self, x):\n",
    "        x = torch.relu(self.custom_layer(x))\n",
    "        # x = torch.relu(self.conv(x))\n",
    "        x = x.view(-1, 1*14*14)\n",
    "        x = torch.relu(self.fc1(x))\n",
    "        x = torch.relu(self.fc2(x))\n",
    "        x = self.fc3(x)\n",
    "        return x"
   ]
  },
  {
   "cell_type": "code",
   "execution_count": 23,
   "metadata": {
    "id": "mPz9z2vidUMU"
   },
   "outputs": [],
   "source": [
    "# Initialize the network and optimizer\n",
    "net = Net()\n",
    "criterion = nn.CrossEntropyLoss()\n",
    "optimizer = optim.SGD(net.parameters(), lr=0.001, momentum=0.9)"
   ]
  },
  {
   "cell_type": "code",
   "execution_count": 24,
   "metadata": {
    "colab": {
     "base_uri": "https://localhost:8080/"
    },
    "id": "su3XPWdWdYem",
    "outputId": "f9f80bf0-94ac-46f0-8730-7abbf02db87a"
   },
   "outputs": [
    {
     "name": "stdout",
     "output_type": "stream",
     "text": [
      "[■■■■■■■■■■■■■■■■■■■■■■■■■■■■■■■■■■■■■■■■] 100%\n",
      "Finished Training in  591.582334 sec\n",
      "Running loss:  2.3022751808166504\n"
     ]
    }
   ],
   "source": [
    "# Training loop\n",
    "total = 100\n",
    "start_time = time.time()\n",
    "for epoch in range(total):  # Change the number of epochs as needed\n",
    "    running_loss = 0.0\n",
    "    for i, data in enumerate(trainloader, 0):\n",
    "        inputs, labels = data\n",
    "        optimizer.zero_grad()\n",
    "        outputs = net(inputs)\n",
    "        loss = criterion(outputs, labels)\n",
    "        loss.backward()\n",
    "        optimizer.step()\n",
    "        running_loss += loss.item()\n",
    "        break\n",
    "    print_custom_loading_bar(epoch + 1, total)\n",
    "delta = time.time() - start_time\n",
    "print(f'\\nFinished Training in {delta: 0.6f} sec')\n",
    "print(\"Running loss: \", running_loss)"
   ]
  },
  {
   "cell_type": "code",
   "execution_count": 25,
   "metadata": {
    "id": "WSpqaX0bf18C"
   },
   "outputs": [
    {
     "name": "stdout",
     "output_type": "stream",
     "text": [
      "total: 30, correct = 5\n",
      "[■                                       ] 3%total: 60, correct = 6\n",
      "[■■                                      ] 6%total: 90, correct = 9\n",
      "[■■■                                     ] 9%total: 120, correct = 16\n",
      "Accuracy of the network on the 120 test images: 13.33%\n"
     ]
    }
   ],
   "source": [
    "# Testing the model\n",
    "correct = 0\n",
    "total = 0\n",
    "count = 0\n",
    "with torch.no_grad():\n",
    "    for data in testloader:\n",
    "        count += 1\n",
    "        images, labels = data\n",
    "        outputs = net(images)\n",
    "        _, predicted = torch.max(outputs.data, 1)\n",
    "        total += labels.size(0)\n",
    "        correct += (predicted == labels).sum().item()\n",
    "        print(f\"total: {total}, correct = {correct}\")\n",
    "        if total > 100 : break\n",
    "        print_custom_loading_bar(total, 1000)\n",
    "        \n",
    "print(f'Accuracy of the network on the {total} test images: {100 * correct / total:.2f}%')\n"
   ]
  },
  {
   "cell_type": "code",
   "execution_count": null,
   "metadata": {},
   "outputs": [],
   "source": []
  },
  {
   "cell_type": "code",
   "execution_count": null,
   "metadata": {},
   "outputs": [],
   "source": []
  },
  {
   "cell_type": "code",
   "execution_count": null,
   "metadata": {},
   "outputs": [],
   "source": []
  },
  {
   "cell_type": "code",
   "execution_count": null,
   "metadata": {},
   "outputs": [],
   "source": []
  }
 ],
 "metadata": {
  "colab": {
   "provenance": []
  },
  "kernelspec": {
   "display_name": "Python 3 (ipykernel)",
   "language": "python",
   "name": "python3"
  },
  "language_info": {
   "codemirror_mode": {
    "name": "ipython",
    "version": 3
   },
   "file_extension": ".py",
   "mimetype": "text/x-python",
   "name": "python",
   "nbconvert_exporter": "python",
   "pygments_lexer": "ipython3",
   "version": "3.10.12"
  }
 },
 "nbformat": 4,
 "nbformat_minor": 4
}
