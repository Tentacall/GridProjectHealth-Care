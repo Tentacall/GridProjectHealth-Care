{
 "cells": [
  {
   "cell_type": "code",
   "execution_count": 1,
   "metadata": {
    "colab": {
     "base_uri": "https://localhost:8080/"
    },
    "id": "7wyP4RJE10Ut",
    "outputId": "3af725c2-f1ec-4db0-c3f7-d5b147039d71"
   },
   "outputs": [
    {
     "name": "stdout",
     "output_type": "stream",
     "text": [
      "Requirement already satisfied: cirq in /home/rupax/github/GridProjectHealth-Care/venv/lib/python3.10/site-packages (1.2.0)\n",
      "Requirement already satisfied: cirq-ionq==1.2.0 in /home/rupax/github/GridProjectHealth-Care/venv/lib/python3.10/site-packages (from cirq) (1.2.0)\n",
      "Requirement already satisfied: cirq-core==1.2.0 in /home/rupax/github/GridProjectHealth-Care/venv/lib/python3.10/site-packages (from cirq) (1.2.0)\n",
      "Requirement already satisfied: cirq-web==1.2.0 in /home/rupax/github/GridProjectHealth-Care/venv/lib/python3.10/site-packages (from cirq) (1.2.0)\n",
      "Requirement already satisfied: cirq-rigetti==1.2.0 in /home/rupax/github/GridProjectHealth-Care/venv/lib/python3.10/site-packages (from cirq) (1.2.0)\n",
      "Requirement already satisfied: cirq-ft==1.2.0 in /home/rupax/github/GridProjectHealth-Care/venv/lib/python3.10/site-packages (from cirq) (1.2.0)\n",
      "Requirement already satisfied: cirq-aqt==1.2.0 in /home/rupax/github/GridProjectHealth-Care/venv/lib/python3.10/site-packages (from cirq) (1.2.0)\n",
      "Requirement already satisfied: cirq-google==1.2.0 in /home/rupax/github/GridProjectHealth-Care/venv/lib/python3.10/site-packages (from cirq) (1.2.0)\n",
      "Requirement already satisfied: cirq-pasqal==1.2.0 in /home/rupax/github/GridProjectHealth-Care/venv/lib/python3.10/site-packages (from cirq) (1.2.0)\n",
      "Requirement already satisfied: requests~=2.18 in /home/rupax/github/GridProjectHealth-Care/venv/lib/python3.10/site-packages (from cirq-aqt==1.2.0->cirq) (2.31.0)\n",
      "Requirement already satisfied: pandas in /home/rupax/github/GridProjectHealth-Care/venv/lib/python3.10/site-packages (from cirq-core==1.2.0->cirq) (2.0.3)\n",
      "Requirement already satisfied: networkx>=2.4 in /home/rupax/github/GridProjectHealth-Care/venv/lib/python3.10/site-packages (from cirq-core==1.2.0->cirq) (2.8.8)\n",
      "Requirement already satisfied: duet~=0.2.8 in /home/rupax/github/GridProjectHealth-Care/venv/lib/python3.10/site-packages (from cirq-core==1.2.0->cirq) (0.2.9)\n",
      "Requirement already satisfied: tqdm in /home/rupax/github/GridProjectHealth-Care/venv/lib/python3.10/site-packages (from cirq-core==1.2.0->cirq) (4.66.1)\n",
      "Requirement already satisfied: matplotlib~=3.0 in /home/rupax/github/GridProjectHealth-Care/venv/lib/python3.10/site-packages (from cirq-core==1.2.0->cirq) (3.7.2)\n",
      "Requirement already satisfied: sympy in /home/rupax/github/GridProjectHealth-Care/venv/lib/python3.10/site-packages (from cirq-core==1.2.0->cirq) (1.12)\n",
      "Requirement already satisfied: typing-extensions>=4.2 in /home/rupax/github/GridProjectHealth-Care/venv/lib/python3.10/site-packages (from cirq-core==1.2.0->cirq) (4.5.0)\n",
      "Requirement already satisfied: numpy~=1.16 in /home/rupax/github/GridProjectHealth-Care/venv/lib/python3.10/site-packages (from cirq-core==1.2.0->cirq) (1.24.3)\n",
      "Requirement already satisfied: sortedcontainers~=2.0 in /home/rupax/github/GridProjectHealth-Care/venv/lib/python3.10/site-packages (from cirq-core==1.2.0->cirq) (2.4.0)\n",
      "Requirement already satisfied: scipy in /home/rupax/github/GridProjectHealth-Care/venv/lib/python3.10/site-packages (from cirq-core==1.2.0->cirq) (1.11.1)\n",
      "Requirement already satisfied: ipywidgets in /home/rupax/github/GridProjectHealth-Care/venv/lib/python3.10/site-packages (from cirq-ft==1.2.0->cirq) (8.1.0)\n",
      "Requirement already satisfied: cachetools>=5.3 in /home/rupax/github/GridProjectHealth-Care/venv/lib/python3.10/site-packages (from cirq-ft==1.2.0->cirq) (5.3.1)\n",
      "Requirement already satisfied: nbformat in /home/rupax/github/GridProjectHealth-Care/venv/lib/python3.10/site-packages (from cirq-ft==1.2.0->cirq) (5.9.2)\n",
      "Requirement already satisfied: attrs in /home/rupax/github/GridProjectHealth-Care/venv/lib/python3.10/site-packages (from cirq-ft==1.2.0->cirq) (21.4.0)\n",
      "Requirement already satisfied: nbconvert in /home/rupax/github/GridProjectHealth-Care/venv/lib/python3.10/site-packages (from cirq-ft==1.2.0->cirq) (7.7.3)\n",
      "Requirement already satisfied: google-api-core[grpc]>=1.14.0 in /home/rupax/github/GridProjectHealth-Care/venv/lib/python3.10/site-packages (from cirq-google==1.2.0->cirq) (2.11.1)\n",
      "Requirement already satisfied: proto-plus>=1.20.0 in /home/rupax/github/GridProjectHealth-Care/venv/lib/python3.10/site-packages (from cirq-google==1.2.0->cirq) (1.22.3)\n",
      "Requirement already satisfied: protobuf>=3.15.0 in /home/rupax/github/GridProjectHealth-Care/venv/lib/python3.10/site-packages (from cirq-google==1.2.0->cirq) (4.24.0)\n",
      "Requirement already satisfied: pyquil~=3.2.0 in /home/rupax/github/GridProjectHealth-Care/venv/lib/python3.10/site-packages (from cirq-rigetti==1.2.0->cirq) (3.2.1)\n",
      "Requirement already satisfied: google-auth<3.0.dev0,>=2.14.1 in /home/rupax/github/GridProjectHealth-Care/venv/lib/python3.10/site-packages (from google-api-core[grpc]>=1.14.0->cirq-google==1.2.0->cirq) (2.22.0)\n",
      "Requirement already satisfied: googleapis-common-protos<2.0.dev0,>=1.56.2 in /home/rupax/github/GridProjectHealth-Care/venv/lib/python3.10/site-packages (from google-api-core[grpc]>=1.14.0->cirq-google==1.2.0->cirq) (1.60.0)\n",
      "Requirement already satisfied: grpcio-status<2.0.dev0,>=1.33.2 in /home/rupax/github/GridProjectHealth-Care/venv/lib/python3.10/site-packages (from google-api-core[grpc]>=1.14.0->cirq-google==1.2.0->cirq) (1.57.0)\n",
      "Requirement already satisfied: grpcio<2.0dev,>=1.33.2 in /home/rupax/github/GridProjectHealth-Care/venv/lib/python3.10/site-packages (from google-api-core[grpc]>=1.14.0->cirq-google==1.2.0->cirq) (1.57.0)\n",
      "Requirement already satisfied: cycler>=0.10 in /home/rupax/github/GridProjectHealth-Care/venv/lib/python3.10/site-packages (from matplotlib~=3.0->cirq-core==1.2.0->cirq) (0.11.0)\n",
      "Requirement already satisfied: contourpy>=1.0.1 in /home/rupax/github/GridProjectHealth-Care/venv/lib/python3.10/site-packages (from matplotlib~=3.0->cirq-core==1.2.0->cirq) (1.1.0)\n",
      "Requirement already satisfied: fonttools>=4.22.0 in /home/rupax/github/GridProjectHealth-Care/venv/lib/python3.10/site-packages (from matplotlib~=3.0->cirq-core==1.2.0->cirq) (4.42.0)\n",
      "Requirement already satisfied: packaging>=20.0 in /home/rupax/github/GridProjectHealth-Care/venv/lib/python3.10/site-packages (from matplotlib~=3.0->cirq-core==1.2.0->cirq) (23.1)\n",
      "Requirement already satisfied: python-dateutil>=2.7 in /home/rupax/github/GridProjectHealth-Care/venv/lib/python3.10/site-packages (from matplotlib~=3.0->cirq-core==1.2.0->cirq) (2.8.2)\n",
      "Requirement already satisfied: kiwisolver>=1.0.1 in /home/rupax/github/GridProjectHealth-Care/venv/lib/python3.10/site-packages (from matplotlib~=3.0->cirq-core==1.2.0->cirq) (1.4.4)\n",
      "Requirement already satisfied: pillow>=6.2.0 in /home/rupax/github/GridProjectHealth-Care/venv/lib/python3.10/site-packages (from matplotlib~=3.0->cirq-core==1.2.0->cirq) (10.0.0)\n",
      "Requirement already satisfied: pyparsing<3.1,>=2.3.1 in /home/rupax/github/GridProjectHealth-Care/venv/lib/python3.10/site-packages (from matplotlib~=3.0->cirq-core==1.2.0->cirq) (3.0.9)\n",
      "Requirement already satisfied: lark<0.12.0,>=0.11.1 in /home/rupax/github/GridProjectHealth-Care/venv/lib/python3.10/site-packages (from pyquil~=3.2.0->cirq-rigetti==1.2.0->cirq) (0.11.3)\n",
      "Requirement already satisfied: rpcq<4.0.0,>=3.10.0 in /home/rupax/github/GridProjectHealth-Care/venv/lib/python3.10/site-packages (from pyquil~=3.2.0->cirq-rigetti==1.2.0->cirq) (3.11.0)\n",
      "Requirement already satisfied: retry<0.10.0,>=0.9.2 in /home/rupax/github/GridProjectHealth-Care/venv/lib/python3.10/site-packages (from pyquil~=3.2.0->cirq-rigetti==1.2.0->cirq) (0.9.2)\n",
      "Requirement already satisfied: qcs-api-client<0.22.0,>=0.20.13 in /home/rupax/github/GridProjectHealth-Care/venv/lib/python3.10/site-packages (from pyquil~=3.2.0->cirq-rigetti==1.2.0->cirq) (0.21.6)\n",
      "Requirement already satisfied: charset-normalizer<4,>=2 in /home/rupax/github/GridProjectHealth-Care/venv/lib/python3.10/site-packages (from requests~=2.18->cirq-aqt==1.2.0->cirq) (3.2.0)\n",
      "Requirement already satisfied: urllib3<3,>=1.21.1 in /home/rupax/github/GridProjectHealth-Care/venv/lib/python3.10/site-packages (from requests~=2.18->cirq-aqt==1.2.0->cirq) (1.26.16)\n",
      "Requirement already satisfied: idna<4,>=2.5 in /home/rupax/github/GridProjectHealth-Care/venv/lib/python3.10/site-packages (from requests~=2.18->cirq-aqt==1.2.0->cirq) (3.4)\n",
      "Requirement already satisfied: certifi>=2017.4.17 in /home/rupax/github/GridProjectHealth-Care/venv/lib/python3.10/site-packages (from requests~=2.18->cirq-aqt==1.2.0->cirq) (2023.7.22)\n",
      "Requirement already satisfied: jupyterlab-widgets~=3.0.7 in /home/rupax/github/GridProjectHealth-Care/venv/lib/python3.10/site-packages (from ipywidgets->cirq-ft==1.2.0->cirq) (3.0.8)\n",
      "Requirement already satisfied: ipython>=6.1.0 in /home/rupax/github/GridProjectHealth-Care/venv/lib/python3.10/site-packages (from ipywidgets->cirq-ft==1.2.0->cirq) (8.14.0)\n",
      "Requirement already satisfied: widgetsnbextension~=4.0.7 in /home/rupax/github/GridProjectHealth-Care/venv/lib/python3.10/site-packages (from ipywidgets->cirq-ft==1.2.0->cirq) (4.0.8)\n",
      "Requirement already satisfied: comm>=0.1.3 in /home/rupax/github/GridProjectHealth-Care/venv/lib/python3.10/site-packages (from ipywidgets->cirq-ft==1.2.0->cirq) (0.1.4)\n",
      "Requirement already satisfied: traitlets>=4.3.1 in /home/rupax/github/GridProjectHealth-Care/venv/lib/python3.10/site-packages (from ipywidgets->cirq-ft==1.2.0->cirq) (5.9.0)\n",
      "Requirement already satisfied: bleach!=5.0.0 in /home/rupax/github/GridProjectHealth-Care/venv/lib/python3.10/site-packages (from nbconvert->cirq-ft==1.2.0->cirq) (6.0.0)\n",
      "Requirement already satisfied: defusedxml in /home/rupax/github/GridProjectHealth-Care/venv/lib/python3.10/site-packages (from nbconvert->cirq-ft==1.2.0->cirq) (0.7.1)\n",
      "Requirement already satisfied: pygments>=2.4.1 in /home/rupax/github/GridProjectHealth-Care/venv/lib/python3.10/site-packages (from nbconvert->cirq-ft==1.2.0->cirq) (2.16.1)\n",
      "Requirement already satisfied: tinycss2 in /home/rupax/github/GridProjectHealth-Care/venv/lib/python3.10/site-packages (from nbconvert->cirq-ft==1.2.0->cirq) (1.2.1)\n",
      "Requirement already satisfied: pandocfilters>=1.4.1 in /home/rupax/github/GridProjectHealth-Care/venv/lib/python3.10/site-packages (from nbconvert->cirq-ft==1.2.0->cirq) (1.5.0)\n",
      "Requirement already satisfied: jinja2>=3.0 in /home/rupax/github/GridProjectHealth-Care/venv/lib/python3.10/site-packages (from nbconvert->cirq-ft==1.2.0->cirq) (3.1.2)\n",
      "Requirement already satisfied: beautifulsoup4 in /home/rupax/github/GridProjectHealth-Care/venv/lib/python3.10/site-packages (from nbconvert->cirq-ft==1.2.0->cirq) (4.12.2)\n",
      "Requirement already satisfied: jupyterlab-pygments in /home/rupax/github/GridProjectHealth-Care/venv/lib/python3.10/site-packages (from nbconvert->cirq-ft==1.2.0->cirq) (0.2.2)\n",
      "Requirement already satisfied: nbclient>=0.5.0 in /home/rupax/github/GridProjectHealth-Care/venv/lib/python3.10/site-packages (from nbconvert->cirq-ft==1.2.0->cirq) (0.8.0)\n",
      "Requirement already satisfied: mistune<4,>=2.0.3 in /home/rupax/github/GridProjectHealth-Care/venv/lib/python3.10/site-packages (from nbconvert->cirq-ft==1.2.0->cirq) (3.0.1)\n",
      "Requirement already satisfied: jupyter-core>=4.7 in /home/rupax/github/GridProjectHealth-Care/venv/lib/python3.10/site-packages (from nbconvert->cirq-ft==1.2.0->cirq) (5.3.1)\n",
      "Requirement already satisfied: markupsafe>=2.0 in /home/rupax/github/GridProjectHealth-Care/venv/lib/python3.10/site-packages (from nbconvert->cirq-ft==1.2.0->cirq) (2.1.3)\n",
      "Requirement already satisfied: jsonschema>=2.6 in /home/rupax/github/GridProjectHealth-Care/venv/lib/python3.10/site-packages (from nbformat->cirq-ft==1.2.0->cirq) (4.17.3)\n",
      "Requirement already satisfied: fastjsonschema in /home/rupax/github/GridProjectHealth-Care/venv/lib/python3.10/site-packages (from nbformat->cirq-ft==1.2.0->cirq) (2.18.0)\n",
      "Requirement already satisfied: pytz>=2020.1 in /home/rupax/github/GridProjectHealth-Care/venv/lib/python3.10/site-packages (from pandas->cirq-core==1.2.0->cirq) (2023.3)\n",
      "Requirement already satisfied: tzdata>=2022.1 in /home/rupax/github/GridProjectHealth-Care/venv/lib/python3.10/site-packages (from pandas->cirq-core==1.2.0->cirq) (2023.3)\n",
      "Requirement already satisfied: mpmath>=0.19 in /home/rupax/github/GridProjectHealth-Care/venv/lib/python3.10/site-packages (from sympy->cirq-core==1.2.0->cirq) (1.3.0)\n",
      "Requirement already satisfied: webencodings in /home/rupax/github/GridProjectHealth-Care/venv/lib/python3.10/site-packages (from bleach!=5.0.0->nbconvert->cirq-ft==1.2.0->cirq) (0.5.1)\n",
      "Requirement already satisfied: six>=1.9.0 in /home/rupax/github/GridProjectHealth-Care/venv/lib/python3.10/site-packages (from bleach!=5.0.0->nbconvert->cirq-ft==1.2.0->cirq) (1.16.0)\n",
      "Requirement already satisfied: pyasn1-modules>=0.2.1 in /home/rupax/github/GridProjectHealth-Care/venv/lib/python3.10/site-packages (from google-auth<3.0.dev0,>=2.14.1->google-api-core[grpc]>=1.14.0->cirq-google==1.2.0->cirq) (0.3.0)\n",
      "Requirement already satisfied: rsa<5,>=3.1.4 in /home/rupax/github/GridProjectHealth-Care/venv/lib/python3.10/site-packages (from google-auth<3.0.dev0,>=2.14.1->google-api-core[grpc]>=1.14.0->cirq-google==1.2.0->cirq) (4.9)\n",
      "Requirement already satisfied: prompt-toolkit!=3.0.37,<3.1.0,>=3.0.30 in /home/rupax/github/GridProjectHealth-Care/venv/lib/python3.10/site-packages (from ipython>=6.1.0->ipywidgets->cirq-ft==1.2.0->cirq) (3.0.39)\n",
      "Requirement already satisfied: jedi>=0.16 in /home/rupax/github/GridProjectHealth-Care/venv/lib/python3.10/site-packages (from ipython>=6.1.0->ipywidgets->cirq-ft==1.2.0->cirq) (0.19.0)\n",
      "Requirement already satisfied: pexpect>4.3 in /home/rupax/github/GridProjectHealth-Care/venv/lib/python3.10/site-packages (from ipython>=6.1.0->ipywidgets->cirq-ft==1.2.0->cirq) (4.8.0)\n",
      "Requirement already satisfied: pickleshare in /home/rupax/github/GridProjectHealth-Care/venv/lib/python3.10/site-packages (from ipython>=6.1.0->ipywidgets->cirq-ft==1.2.0->cirq) (0.7.5)\n",
      "Requirement already satisfied: decorator in /home/rupax/github/GridProjectHealth-Care/venv/lib/python3.10/site-packages (from ipython>=6.1.0->ipywidgets->cirq-ft==1.2.0->cirq) (5.1.1)\n",
      "Requirement already satisfied: matplotlib-inline in /home/rupax/github/GridProjectHealth-Care/venv/lib/python3.10/site-packages (from ipython>=6.1.0->ipywidgets->cirq-ft==1.2.0->cirq) (0.1.6)\n",
      "Requirement already satisfied: backcall in /home/rupax/github/GridProjectHealth-Care/venv/lib/python3.10/site-packages (from ipython>=6.1.0->ipywidgets->cirq-ft==1.2.0->cirq) (0.2.0)\n",
      "Requirement already satisfied: stack-data in /home/rupax/github/GridProjectHealth-Care/venv/lib/python3.10/site-packages (from ipython>=6.1.0->ipywidgets->cirq-ft==1.2.0->cirq) (0.6.2)\n",
      "Requirement already satisfied: pyrsistent!=0.17.0,!=0.17.1,!=0.17.2,>=0.14.0 in /home/rupax/github/GridProjectHealth-Care/venv/lib/python3.10/site-packages (from jsonschema>=2.6->nbformat->cirq-ft==1.2.0->cirq) (0.19.3)\n",
      "Requirement already satisfied: platformdirs>=2.5 in /home/rupax/github/GridProjectHealth-Care/venv/lib/python3.10/site-packages (from jupyter-core>=4.7->nbconvert->cirq-ft==1.2.0->cirq) (3.10.0)\n",
      "Requirement already satisfied: jupyter-client>=6.1.12 in /home/rupax/github/GridProjectHealth-Care/venv/lib/python3.10/site-packages (from nbclient>=0.5.0->nbconvert->cirq-ft==1.2.0->cirq) (8.3.0)\n",
      "Requirement already satisfied: pydantic<2.0.0,>=1.7.2 in /home/rupax/github/GridProjectHealth-Care/venv/lib/python3.10/site-packages (from qcs-api-client<0.22.0,>=0.20.13->pyquil~=3.2.0->cirq-rigetti==1.2.0->cirq) (1.10.12)\n",
      "Requirement already satisfied: retrying<2.0.0,>=1.3.3 in /home/rupax/github/GridProjectHealth-Care/venv/lib/python3.10/site-packages (from qcs-api-client<0.22.0,>=0.20.13->pyquil~=3.2.0->cirq-rigetti==1.2.0->cirq) (1.3.4)\n",
      "Requirement already satisfied: PyJWT<3.0.0,>=2.4.0 in /home/rupax/github/GridProjectHealth-Care/venv/lib/python3.10/site-packages (from qcs-api-client<0.22.0,>=0.20.13->pyquil~=3.2.0->cirq-rigetti==1.2.0->cirq) (2.8.0)\n",
      "Requirement already satisfied: iso8601<2.0.0,>=1.0.2 in /home/rupax/github/GridProjectHealth-Care/venv/lib/python3.10/site-packages (from qcs-api-client<0.22.0,>=0.20.13->pyquil~=3.2.0->cirq-rigetti==1.2.0->cirq) (1.1.0)\n",
      "Requirement already satisfied: toml<0.11.0,>=0.10.2 in /home/rupax/github/GridProjectHealth-Care/venv/lib/python3.10/site-packages (from qcs-api-client<0.22.0,>=0.20.13->pyquil~=3.2.0->cirq-rigetti==1.2.0->cirq) (0.10.2)\n",
      "Requirement already satisfied: rfc3339<7.0,>=6.2 in /home/rupax/github/GridProjectHealth-Care/venv/lib/python3.10/site-packages (from qcs-api-client<0.22.0,>=0.20.13->pyquil~=3.2.0->cirq-rigetti==1.2.0->cirq) (6.2)\n",
      "Requirement already satisfied: httpx<0.24.0,>=0.23.0 in /home/rupax/github/GridProjectHealth-Care/venv/lib/python3.10/site-packages (from qcs-api-client<0.22.0,>=0.20.13->pyquil~=3.2.0->cirq-rigetti==1.2.0->cirq) (0.23.3)\n",
      "Requirement already satisfied: py<2.0.0,>=1.4.26 in /home/rupax/github/GridProjectHealth-Care/venv/lib/python3.10/site-packages (from retry<0.10.0,>=0.9.2->pyquil~=3.2.0->cirq-rigetti==1.2.0->cirq) (1.11.0)\n",
      "Requirement already satisfied: pyzmq>=17 in /home/rupax/github/GridProjectHealth-Care/venv/lib/python3.10/site-packages (from rpcq<4.0.0,>=3.10.0->pyquil~=3.2.0->cirq-rigetti==1.2.0->cirq) (25.1.1)\n",
      "Requirement already satisfied: python-rapidjson in /home/rupax/github/GridProjectHealth-Care/venv/lib/python3.10/site-packages (from rpcq<4.0.0,>=3.10.0->pyquil~=3.2.0->cirq-rigetti==1.2.0->cirq) (1.10)\n",
      "Requirement already satisfied: msgpack<2.0,>=0.6 in /home/rupax/github/GridProjectHealth-Care/venv/lib/python3.10/site-packages (from rpcq<4.0.0,>=3.10.0->pyquil~=3.2.0->cirq-rigetti==1.2.0->cirq) (1.0.5)\n",
      "Requirement already satisfied: ruamel.yaml in /home/rupax/github/GridProjectHealth-Care/venv/lib/python3.10/site-packages (from rpcq<4.0.0,>=3.10.0->pyquil~=3.2.0->cirq-rigetti==1.2.0->cirq) (0.17.32)\n",
      "Requirement already satisfied: soupsieve>1.2 in /home/rupax/github/GridProjectHealth-Care/venv/lib/python3.10/site-packages (from beautifulsoup4->nbconvert->cirq-ft==1.2.0->cirq) (2.4.1)\n",
      "Requirement already satisfied: httpcore<0.17.0,>=0.15.0 in /home/rupax/github/GridProjectHealth-Care/venv/lib/python3.10/site-packages (from httpx<0.24.0,>=0.23.0->qcs-api-client<0.22.0,>=0.20.13->pyquil~=3.2.0->cirq-rigetti==1.2.0->cirq) (0.16.3)\n",
      "Requirement already satisfied: rfc3986[idna2008]<2,>=1.3 in /home/rupax/github/GridProjectHealth-Care/venv/lib/python3.10/site-packages (from httpx<0.24.0,>=0.23.0->qcs-api-client<0.22.0,>=0.20.13->pyquil~=3.2.0->cirq-rigetti==1.2.0->cirq) (1.5.0)\n",
      "Requirement already satisfied: sniffio in /home/rupax/github/GridProjectHealth-Care/venv/lib/python3.10/site-packages (from httpx<0.24.0,>=0.23.0->qcs-api-client<0.22.0,>=0.20.13->pyquil~=3.2.0->cirq-rigetti==1.2.0->cirq) (1.3.0)\n",
      "Requirement already satisfied: parso<0.9.0,>=0.8.3 in /home/rupax/github/GridProjectHealth-Care/venv/lib/python3.10/site-packages (from jedi>=0.16->ipython>=6.1.0->ipywidgets->cirq-ft==1.2.0->cirq) (0.8.3)\n",
      "Requirement already satisfied: tornado>=6.2 in /home/rupax/github/GridProjectHealth-Care/venv/lib/python3.10/site-packages (from jupyter-client>=6.1.12->nbclient>=0.5.0->nbconvert->cirq-ft==1.2.0->cirq) (6.3.2)\n",
      "Requirement already satisfied: ptyprocess>=0.5 in /home/rupax/github/GridProjectHealth-Care/venv/lib/python3.10/site-packages (from pexpect>4.3->ipython>=6.1.0->ipywidgets->cirq-ft==1.2.0->cirq) (0.7.0)\n",
      "Requirement already satisfied: wcwidth in /home/rupax/github/GridProjectHealth-Care/venv/lib/python3.10/site-packages (from prompt-toolkit!=3.0.37,<3.1.0,>=3.0.30->ipython>=6.1.0->ipywidgets->cirq-ft==1.2.0->cirq) (0.2.6)\n",
      "Requirement already satisfied: pyasn1<0.6.0,>=0.4.6 in /home/rupax/github/GridProjectHealth-Care/venv/lib/python3.10/site-packages (from pyasn1-modules>=0.2.1->google-auth<3.0.dev0,>=2.14.1->google-api-core[grpc]>=1.14.0->cirq-google==1.2.0->cirq) (0.5.0)\n",
      "Requirement already satisfied: ruamel.yaml.clib>=0.2.7 in /home/rupax/github/GridProjectHealth-Care/venv/lib/python3.10/site-packages (from ruamel.yaml->rpcq<4.0.0,>=3.10.0->pyquil~=3.2.0->cirq-rigetti==1.2.0->cirq) (0.2.7)\n",
      "Requirement already satisfied: executing>=1.2.0 in /home/rupax/github/GridProjectHealth-Care/venv/lib/python3.10/site-packages (from stack-data->ipython>=6.1.0->ipywidgets->cirq-ft==1.2.0->cirq) (1.2.0)\n",
      "Requirement already satisfied: pure-eval in /home/rupax/github/GridProjectHealth-Care/venv/lib/python3.10/site-packages (from stack-data->ipython>=6.1.0->ipywidgets->cirq-ft==1.2.0->cirq) (0.2.2)\n",
      "Requirement already satisfied: asttokens>=2.1.0 in /home/rupax/github/GridProjectHealth-Care/venv/lib/python3.10/site-packages (from stack-data->ipython>=6.1.0->ipywidgets->cirq-ft==1.2.0->cirq) (2.2.1)\n",
      "Requirement already satisfied: anyio<5.0,>=3.0 in /home/rupax/github/GridProjectHealth-Care/venv/lib/python3.10/site-packages (from httpcore<0.17.0,>=0.15.0->httpx<0.24.0,>=0.23.0->qcs-api-client<0.22.0,>=0.20.13->pyquil~=3.2.0->cirq-rigetti==1.2.0->cirq) (3.7.1)\n",
      "Requirement already satisfied: h11<0.15,>=0.13 in /home/rupax/github/GridProjectHealth-Care/venv/lib/python3.10/site-packages (from httpcore<0.17.0,>=0.15.0->httpx<0.24.0,>=0.23.0->qcs-api-client<0.22.0,>=0.20.13->pyquil~=3.2.0->cirq-rigetti==1.2.0->cirq) (0.14.0)\n",
      "Requirement already satisfied: exceptiongroup in /home/rupax/github/GridProjectHealth-Care/venv/lib/python3.10/site-packages (from anyio<5.0,>=3.0->httpcore<0.17.0,>=0.15.0->httpx<0.24.0,>=0.23.0->qcs-api-client<0.22.0,>=0.20.13->pyquil~=3.2.0->cirq-rigetti==1.2.0->cirq) (1.1.2)\n"
     ]
    }
   ],
   "source": [
    "!pip install cirq"
   ]
  },
  {
   "cell_type": "code",
   "execution_count": 2,
   "metadata": {
    "id": "ReDnNYECN3iH"
   },
   "outputs": [],
   "source": [
    "import torch\n",
    "import torch.nn as nn\n",
    "import torch.optim as optim\n",
    "import torchvision\n",
    "import torchvision.transforms as transforms\n",
    "import cirq\n",
    "from math import pi"
   ]
  },
  {
   "cell_type": "code",
   "execution_count": 3,
   "metadata": {
    "id": "MD_fteZ_pdgA"
   },
   "outputs": [
    {
     "name": "stdout",
     "output_type": "stream",
     "text": [
      "Using device : cuda\n"
     ]
    }
   ],
   "source": [
    "device = 'cuda' if torch.cuda.is_available() else 'cpu'\n",
    "print(f\"Using device : {device}\")"
   ]
  },
  {
   "cell_type": "code",
   "execution_count": 4,
   "metadata": {
    "id": "DY4Eca_AdMoG"
   },
   "outputs": [
    {
     "name": "stdout",
     "output_type": "stream",
     "text": [
      "Downloading http://yann.lecun.com/exdb/mnist/train-images-idx3-ubyte.gz\n",
      "Using downloaded and verified file: ./data/MNIST/raw/train-images-idx3-ubyte.gz\n",
      "Extracting ./data/MNIST/raw/train-images-idx3-ubyte.gz to ./data/MNIST/raw\n",
      "\n",
      "Downloading http://yann.lecun.com/exdb/mnist/train-labels-idx1-ubyte.gz\n",
      "Using downloaded and verified file: ./data/MNIST/raw/train-labels-idx1-ubyte.gz\n",
      "Extracting ./data/MNIST/raw/train-labels-idx1-ubyte.gz to ./data/MNIST/raw\n",
      "\n",
      "Downloading http://yann.lecun.com/exdb/mnist/t10k-images-idx3-ubyte.gz\n",
      "Downloading http://yann.lecun.com/exdb/mnist/t10k-images-idx3-ubyte.gz to ./data/MNIST/raw/t10k-images-idx3-ubyte.gz\n"
     ]
    },
    {
     "name": "stderr",
     "output_type": "stream",
     "text": [
      "100%|████████████████████████████████████████████████████████████████████████████████████████████████████████| 1648877/1648877 [00:00<00:00, 1802205.00it/s]\n"
     ]
    },
    {
     "name": "stdout",
     "output_type": "stream",
     "text": [
      "Extracting ./data/MNIST/raw/t10k-images-idx3-ubyte.gz to ./data/MNIST/raw\n",
      "\n",
      "Downloading http://yann.lecun.com/exdb/mnist/t10k-labels-idx1-ubyte.gz\n",
      "Downloading http://yann.lecun.com/exdb/mnist/t10k-labels-idx1-ubyte.gz to ./data/MNIST/raw/t10k-labels-idx1-ubyte.gz\n"
     ]
    },
    {
     "name": "stderr",
     "output_type": "stream",
     "text": [
      "100%|█████████████████████████████████████████████████████████████████████████████████████████████████████████████| 4542/4542 [00:00<00:00, 11981464.63it/s]"
     ]
    },
    {
     "name": "stdout",
     "output_type": "stream",
     "text": [
      "Extracting ./data/MNIST/raw/t10k-labels-idx1-ubyte.gz to ./data/MNIST/raw\n",
      "\n"
     ]
    },
    {
     "name": "stderr",
     "output_type": "stream",
     "text": [
      "\n"
     ]
    }
   ],
   "source": [
    "transform = transforms.Compose([transforms.ToTensor(), transforms.Normalize((0.5,), (0.5,))])\n",
    "trainset = torchvision.datasets.MNIST(root='./data', train=True, download=True, transform=transform)\n",
    "trainloader = torch.utils.data.DataLoader(trainset, batch_size=30, shuffle=True)"
   ]
  },
  {
   "cell_type": "code",
   "execution_count": 5,
   "metadata": {
    "id": "E5IhZEZkf9Sq"
   },
   "outputs": [],
   "source": [
    "testset = torchvision.datasets.MNIST(root='./data', train=False, download=True, transform=transform)\n",
    "testloader = torch.utils.data.DataLoader(testset, batch_size=30, shuffle=False)"
   ]
  },
  {
   "cell_type": "code",
   "execution_count": 13,
   "metadata": {},
   "outputs": [],
   "source": [
    "def print_custom_loading_bar(current_value, total_value, bar_length=40):\n",
    "    progress = min(1.0, current_value / total_value)\n",
    "    arrow = '■' * int(progress * bar_length)\n",
    "    spaces = ' ' * (bar_length - len(arrow))\n",
    "    print(f'\\r[{arrow}{spaces}] {int(progress * 100)}%', end='', flush=True)"
   ]
  },
  {
   "cell_type": "code",
   "execution_count": 6,
   "metadata": {
    "id": "Ze0OQDeUuNjt"
   },
   "outputs": [],
   "source": [
    "class QuantamConv2d(nn.Module):\n",
    "    def __init__(self):\n",
    "        super(QuantamConv2d, self).__init__()\n",
    "        self.weight = nn.Parameter(torch.ones(4))*100\n",
    "        self.bias = nn.Parameter(torch.zeros(4))\n",
    "        self.simulator = cirq.Simulator()\n",
    "\n",
    "\n",
    "    def forward(self, x):\n",
    "        kernel_height, kernel_width = (2,2)\n",
    "        assert x.size() == ( 30, 1, 28, 28 )\n",
    "        batch, _, image_height, image_width = x.size()\n",
    "        result = torch.zeros(30, 1, 14, 14)\n",
    "        for z in range(30):\n",
    "            for i in range(0,image_height - kernel_height + 1,2):\n",
    "                for j in range(0,image_width - kernel_width + 1,2):\n",
    "                    P = x[z][0][i:i+kernel_height, j:j+kernel_width]\n",
    "                    P = [P[0][0], P[0][1], P[1][0], P[1][1]]\n",
    "                    circuit, keys = self.kernel(P)\n",
    "                    res = self.simulator.run(circuit, repetitions=10)\n",
    "                    # print(res.histogram(key=keys[3]))\n",
    "                    try:\n",
    "                        result[z][0][i//2][j//2] = res.histogram(key=keys[3])[1] * 0.1\n",
    "                    except:\n",
    "                        result[z][0][i//2][j//2] = 0\n",
    "        return result\n",
    "    \n",
    "    def backward():\n",
    "        pass\n",
    "\n",
    "    def kernel(self, P):\n",
    "        Q = [cirq.GridQubit(i,0) for i in range(4)]\n",
    "        W = [cirq.GridQubit(i,1) for i in range(3)]\n",
    "        keys = [\"q0\", \"q1\", \"q2\", \"q3\"]\n",
    "\n",
    "        circuit = cirq.Circuit()\n",
    "        # for i in range(4):\n",
    "        #     circuit.append(cirq.H(Q[i]))\n",
    "\n",
    "        weight = self.weight.tolist()\n",
    "\n",
    "        for i in range(4):\n",
    "            circuit.append(cirq.ry(P[i].item()/255 * pi).on(Q[i]))\n",
    "\n",
    "        for i in range(3):\n",
    "            circuit.append(cirq.rx(weight[i]/255 * pi).on(W[i]))\n",
    "\n",
    "        for i in range(3):\n",
    "            circuit.append(cirq.TOFFOLI(W[i], Q[i], Q[i+1]))\n",
    "\n",
    "        for i in range(3):\n",
    "            circuit.append(cirq.ZZ(Q[i], Q[i+1]))\n",
    "\n",
    "        for i in range(4):\n",
    "            circuit.append(cirq.measure(Q[i], key=keys[i]))\n",
    "        return circuit, keys\n",
    "\n"
   ]
  },
  {
   "cell_type": "code",
   "execution_count": 7,
   "metadata": {
    "id": "e-_wYYHRhegu"
   },
   "outputs": [],
   "source": [
    "class CustomLayer(nn.Module):\n",
    "    def __init__(self):\n",
    "        super(CustomLayer, self).__init__()\n",
    "        self.conv1 = QuantamConv2d()\n",
    "\n",
    "    def forward(self, x):\n",
    "        # print(\"before : \", x.shape)\n",
    "        x = torch.relu(self.conv1(x))\n",
    "        # print(\"after : \", x.shape)\n",
    "        return x"
   ]
  },
  {
   "cell_type": "code",
   "execution_count": 38,
   "metadata": {
    "id": "5jtizQATRNWe"
   },
   "outputs": [],
   "source": [
    "# Define the CNN model\n",
    "class Net(nn.Module):\n",
    "    def __init__(self):\n",
    "        super(Net, self).__init__()\n",
    "        self.custom_layer = CustomLayer()\n",
    "        self.fc1 = nn.Linear(14*14, 120)\n",
    "        self.fc2 = nn.Linear(120, 84)\n",
    "        self.fc3 = nn.Linear(84, 10)\n",
    "        self.conv = nn.Conv2d(in_channels=1, out_channels=1, kernel_size=2, stride=2)\n",
    "\n",
    "    def forward(self, x):\n",
    "        # x = torch.relu(self.custom_layer(x))\n",
    "        x = torch.relu(self.conv(x))\n",
    "        x = x.view(-1, 1*14*14)\n",
    "        x = torch.relu(self.fc1(x))\n",
    "        x = torch.relu(self.fc2(x))\n",
    "        x = self.fc3(x)\n",
    "        return x"
   ]
  },
  {
   "cell_type": "code",
   "execution_count": 49,
   "metadata": {
    "id": "mPz9z2vidUMU"
   },
   "outputs": [],
   "source": [
    "# Initialize the network and optimizer\n",
    "net = Net()\n",
    "criterion = nn.CrossEntropyLoss()\n",
    "optimizer = optim.SGD(net.parameters(), lr=0.001, momentum=0.9)"
   ]
  },
  {
   "cell_type": "code",
   "execution_count": 50,
   "metadata": {
    "colab": {
     "base_uri": "https://localhost:8080/"
    },
    "id": "su3XPWdWdYem",
    "outputId": "f9f80bf0-94ac-46f0-8730-7abbf02db87a"
   },
   "outputs": [
    {
     "name": "stdout",
     "output_type": "stream",
     "text": [
      "[■■■■■■■■■■■■■■■■■■■■■■■■■■■■■■■■■■■■■■■■] 100%Finished Training\n",
      "Running loss:  2.284698247909546\n"
     ]
    }
   ],
   "source": [
    "# Training loop\n",
    "total = 100\n",
    "for epoch in range(total):  # Change the number of epochs as needed\n",
    "    running_loss = 0.0\n",
    "    for i, data in enumerate(trainloader, 0):\n",
    "        inputs, labels = data\n",
    "        optimizer.zero_grad()\n",
    "        outputs = net(inputs)\n",
    "        loss = criterion(outputs, labels)\n",
    "        loss.backward()\n",
    "        optimizer.step()\n",
    "        running_loss += loss.item()\n",
    "        break\n",
    "    print_custom_loading_bar(epoch + 1, total)\n",
    "\n",
    "print('Finished Training')\n",
    "print(\"Running loss: \", running_loss)"
   ]
  },
  {
   "cell_type": "code",
   "execution_count": 51,
   "metadata": {
    "id": "WSpqaX0bf18C"
   },
   "outputs": [
    {
     "name": "stdout",
     "output_type": "stream",
     "text": [
      "total: 30, correct = 4\n",
      "[■                                       ] 3%total: 60, correct = 6\n",
      "[■■                                      ] 6%total: 90, correct = 16\n",
      "[■■■                                     ] 9%total: 120, correct = 21\n",
      "[■■■■                                    ] 12%total: 150, correct = 27\n",
      "[■■■■■■                                  ] 15%total: 180, correct = 31\n",
      "[■■■■■■■                                 ] 18%total: 210, correct = 32\n",
      "[■■■■■■■■                                ] 21%total: 240, correct = 39\n",
      "[■■■■■■■■■                               ] 24%total: 270, correct = 44\n",
      "[■■■■■■■■■■                              ] 27%total: 300, correct = 46\n",
      "[■■■■■■■■■■■■                            ] 30%total: 330, correct = 51\n",
      "[■■■■■■■■■■■■■                           ] 33%total: 360, correct = 57\n",
      "[■■■■■■■■■■■■■■                          ] 36%total: 390, correct = 60\n",
      "[■■■■■■■■■■■■■■■                         ] 39%total: 420, correct = 66\n",
      "[■■■■■■■■■■■■■■■■                        ] 42%total: 450, correct = 67\n",
      "[■■■■■■■■■■■■■■■■■■                      ] 45%total: 480, correct = 72\n",
      "[■■■■■■■■■■■■■■■■■■■                     ] 48%total: 510, correct = 75\n",
      "[■■■■■■■■■■■■■■■■■■■■                    ] 51%total: 540, correct = 78\n",
      "[■■■■■■■■■■■■■■■■■■■■■                   ] 54%total: 570, correct = 81\n",
      "[■■■■■■■■■■■■■■■■■■■■■■                  ] 56%total: 600, correct = 86\n",
      "[■■■■■■■■■■■■■■■■■■■■■■■■                ] 60%total: 630, correct = 90\n",
      "[■■■■■■■■■■■■■■■■■■■■■■■■■               ] 63%total: 660, correct = 93\n",
      "[■■■■■■■■■■■■■■■■■■■■■■■■■■              ] 66%total: 690, correct = 100\n",
      "[■■■■■■■■■■■■■■■■■■■■■■■■■■■             ] 69%total: 720, correct = 104\n",
      "[■■■■■■■■■■■■■■■■■■■■■■■■■■■■            ] 72%total: 750, correct = 107\n",
      "[■■■■■■■■■■■■■■■■■■■■■■■■■■■■■■          ] 75%total: 780, correct = 111\n",
      "[■■■■■■■■■■■■■■■■■■■■■■■■■■■■■■■         ] 78%total: 810, correct = 113\n",
      "[■■■■■■■■■■■■■■■■■■■■■■■■■■■■■■■■        ] 81%total: 840, correct = 121\n",
      "[■■■■■■■■■■■■■■■■■■■■■■■■■■■■■■■■■       ] 84%total: 870, correct = 128\n",
      "[■■■■■■■■■■■■■■■■■■■■■■■■■■■■■■■■■■      ] 87%total: 900, correct = 132\n",
      "[■■■■■■■■■■■■■■■■■■■■■■■■■■■■■■■■■■■■    ] 90%total: 930, correct = 139\n",
      "[■■■■■■■■■■■■■■■■■■■■■■■■■■■■■■■■■■■■■   ] 93%total: 960, correct = 144\n",
      "[■■■■■■■■■■■■■■■■■■■■■■■■■■■■■■■■■■■■■■  ] 96%total: 990, correct = 148\n",
      "[■■■■■■■■■■■■■■■■■■■■■■■■■■■■■■■■■■■■■■■ ] 99%total: 1020, correct = 150\n",
      "Accuracy of the network on the 1020 test images: 14.71%\n"
     ]
    }
   ],
   "source": [
    "# Testing the model\n",
    "correct = 0\n",
    "total = 0\n",
    "count = 0\n",
    "with torch.no_grad():\n",
    "    for data in testloader:\n",
    "        count += 1\n",
    "        images, labels = data\n",
    "        outputs = net(images)\n",
    "        _, predicted = torch.max(outputs.data, 1)\n",
    "        total += labels.size(0)\n",
    "        correct += (predicted == labels).sum().item()\n",
    "        print(f\"total: {total}, correct = {correct}\")\n",
    "        if total > 1000 : break\n",
    "        print_custom_loading_bar(total, 1000)\n",
    "        \n",
    "print(f'Accuracy of the network on the {total} test images: {100 * correct / total:.2f}%')\n"
   ]
  },
  {
   "cell_type": "code",
   "execution_count": null,
   "metadata": {},
   "outputs": [],
   "source": []
  }
 ],
 "metadata": {
  "colab": {
   "provenance": []
  },
  "kernelspec": {
   "display_name": "Python 3 (ipykernel)",
   "language": "python",
   "name": "python3"
  },
  "language_info": {
   "codemirror_mode": {
    "name": "ipython",
    "version": 3
   },
   "file_extension": ".py",
   "mimetype": "text/x-python",
   "name": "python",
   "nbconvert_exporter": "python",
   "pygments_lexer": "ipython3",
   "version": "3.10.12"
  }
 },
 "nbformat": 4,
 "nbformat_minor": 4
}
