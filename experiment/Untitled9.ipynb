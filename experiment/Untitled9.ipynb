{
  "cells": [
    {
      "cell_type": "code",
      "execution_count": 143,
      "metadata": {
        "colab": {
          "base_uri": "https://localhost:8080/"
        },
        "id": "7wyP4RJE10Ut",
        "outputId": "3af725c2-f1ec-4db0-c3f7-d5b147039d71"
      },
      "outputs": [
        {
          "name": "stdout",
          "output_type": "stream",
          "text": [
            "Requirement already satisfied: cirq in /home/rupax/Desktop/github/GridProjectHealth-Care/venv/lib/python3.10/site-packages (1.2.0)\n",
            "Requirement already satisfied: cirq-aqt==1.2.0 in /home/rupax/Desktop/github/GridProjectHealth-Care/venv/lib/python3.10/site-packages (from cirq) (1.2.0)\n",
            "Requirement already satisfied: cirq-core==1.2.0 in /home/rupax/Desktop/github/GridProjectHealth-Care/venv/lib/python3.10/site-packages (from cirq) (1.2.0)\n",
            "Requirement already satisfied: cirq-ft==1.2.0 in /home/rupax/Desktop/github/GridProjectHealth-Care/venv/lib/python3.10/site-packages (from cirq) (1.2.0)\n",
            "Requirement already satisfied: cirq-google==1.2.0 in /home/rupax/Desktop/github/GridProjectHealth-Care/venv/lib/python3.10/site-packages (from cirq) (1.2.0)\n",
            "Requirement already satisfied: cirq-ionq==1.2.0 in /home/rupax/Desktop/github/GridProjectHealth-Care/venv/lib/python3.10/site-packages (from cirq) (1.2.0)\n",
            "Requirement already satisfied: cirq-pasqal==1.2.0 in /home/rupax/Desktop/github/GridProjectHealth-Care/venv/lib/python3.10/site-packages (from cirq) (1.2.0)\n",
            "Requirement already satisfied: cirq-rigetti==1.2.0 in /home/rupax/Desktop/github/GridProjectHealth-Care/venv/lib/python3.10/site-packages (from cirq) (1.2.0)\n",
            "Requirement already satisfied: cirq-web==1.2.0 in /home/rupax/Desktop/github/GridProjectHealth-Care/venv/lib/python3.10/site-packages (from cirq) (1.2.0)\n",
            "Requirement already satisfied: requests~=2.18 in /home/rupax/Desktop/github/GridProjectHealth-Care/venv/lib/python3.10/site-packages (from cirq-aqt==1.2.0->cirq) (2.31.0)\n",
            "Requirement already satisfied: duet~=0.2.8 in /home/rupax/Desktop/github/GridProjectHealth-Care/venv/lib/python3.10/site-packages (from cirq-core==1.2.0->cirq) (0.2.9)\n",
            "Requirement already satisfied: matplotlib~=3.0 in /home/rupax/Desktop/github/GridProjectHealth-Care/venv/lib/python3.10/site-packages (from cirq-core==1.2.0->cirq) (3.7.2)\n",
            "Requirement already satisfied: networkx>=2.4 in /home/rupax/Desktop/github/GridProjectHealth-Care/venv/lib/python3.10/site-packages (from cirq-core==1.2.0->cirq) (2.8.8)\n",
            "Requirement already satisfied: numpy~=1.16 in /home/rupax/Desktop/github/GridProjectHealth-Care/venv/lib/python3.10/site-packages (from cirq-core==1.2.0->cirq) (1.23.5)\n",
            "Requirement already satisfied: pandas in /home/rupax/Desktop/github/GridProjectHealth-Care/venv/lib/python3.10/site-packages (from cirq-core==1.2.0->cirq) (2.0.3)\n",
            "Requirement already satisfied: sortedcontainers~=2.0 in /home/rupax/Desktop/github/GridProjectHealth-Care/venv/lib/python3.10/site-packages (from cirq-core==1.2.0->cirq) (2.4.0)\n",
            "Requirement already satisfied: scipy in /home/rupax/Desktop/github/GridProjectHealth-Care/venv/lib/python3.10/site-packages (from cirq-core==1.2.0->cirq) (1.11.1)\n",
            "Requirement already satisfied: sympy in /home/rupax/Desktop/github/GridProjectHealth-Care/venv/lib/python3.10/site-packages (from cirq-core==1.2.0->cirq) (1.12)\n",
            "Requirement already satisfied: typing-extensions>=4.2 in /home/rupax/Desktop/github/GridProjectHealth-Care/venv/lib/python3.10/site-packages (from cirq-core==1.2.0->cirq) (4.5.0)\n",
            "Requirement already satisfied: tqdm in /home/rupax/Desktop/github/GridProjectHealth-Care/venv/lib/python3.10/site-packages (from cirq-core==1.2.0->cirq) (4.65.0)\n",
            "Requirement already satisfied: attrs in /home/rupax/Desktop/github/GridProjectHealth-Care/venv/lib/python3.10/site-packages (from cirq-ft==1.2.0->cirq) (21.4.0)\n",
            "Requirement already satisfied: cachetools>=5.3 in /home/rupax/Desktop/github/GridProjectHealth-Care/venv/lib/python3.10/site-packages (from cirq-ft==1.2.0->cirq) (5.3.1)\n",
            "Requirement already satisfied: ipywidgets in /home/rupax/Desktop/github/GridProjectHealth-Care/venv/lib/python3.10/site-packages (from cirq-ft==1.2.0->cirq) (8.1.0)\n",
            "Requirement already satisfied: nbconvert in /home/rupax/Desktop/github/GridProjectHealth-Care/venv/lib/python3.10/site-packages (from cirq-ft==1.2.0->cirq) (7.7.3)\n",
            "Requirement already satisfied: nbformat in /home/rupax/Desktop/github/GridProjectHealth-Care/venv/lib/python3.10/site-packages (from cirq-ft==1.2.0->cirq) (5.9.2)\n",
            "Requirement already satisfied: google-api-core[grpc]>=1.14.0 in /home/rupax/Desktop/github/GridProjectHealth-Care/venv/lib/python3.10/site-packages (from cirq-google==1.2.0->cirq) (2.11.1)\n",
            "Requirement already satisfied: proto-plus>=1.20.0 in /home/rupax/Desktop/github/GridProjectHealth-Care/venv/lib/python3.10/site-packages (from cirq-google==1.2.0->cirq) (1.22.3)\n",
            "Requirement already satisfied: protobuf>=3.15.0 in /home/rupax/Desktop/github/GridProjectHealth-Care/venv/lib/python3.10/site-packages (from cirq-google==1.2.0->cirq) (4.23.4)\n",
            "Requirement already satisfied: pyquil~=3.2.0 in /home/rupax/Desktop/github/GridProjectHealth-Care/venv/lib/python3.10/site-packages (from cirq-rigetti==1.2.0->cirq) (3.2.1)\n",
            "Requirement already satisfied: googleapis-common-protos<2.0.dev0,>=1.56.2 in /home/rupax/Desktop/github/GridProjectHealth-Care/venv/lib/python3.10/site-packages (from google-api-core[grpc]>=1.14.0->cirq-google==1.2.0->cirq) (1.60.0)\n",
            "Requirement already satisfied: google-auth<3.0.dev0,>=2.14.1 in /home/rupax/Desktop/github/GridProjectHealth-Care/venv/lib/python3.10/site-packages (from google-api-core[grpc]>=1.14.0->cirq-google==1.2.0->cirq) (2.22.0)\n",
            "Requirement already satisfied: grpcio<2.0dev,>=1.33.2 in /home/rupax/Desktop/github/GridProjectHealth-Care/venv/lib/python3.10/site-packages (from google-api-core[grpc]>=1.14.0->cirq-google==1.2.0->cirq) (1.56.2)\n",
            "Requirement already satisfied: grpcio-status<2.0.dev0,>=1.33.2 in /home/rupax/Desktop/github/GridProjectHealth-Care/venv/lib/python3.10/site-packages (from google-api-core[grpc]>=1.14.0->cirq-google==1.2.0->cirq) (1.56.2)\n",
            "Requirement already satisfied: contourpy>=1.0.1 in /home/rupax/Desktop/github/GridProjectHealth-Care/venv/lib/python3.10/site-packages (from matplotlib~=3.0->cirq-core==1.2.0->cirq) (1.1.0)\n",
            "Requirement already satisfied: cycler>=0.10 in /home/rupax/Desktop/github/GridProjectHealth-Care/venv/lib/python3.10/site-packages (from matplotlib~=3.0->cirq-core==1.2.0->cirq) (0.11.0)\n",
            "Requirement already satisfied: fonttools>=4.22.0 in /home/rupax/Desktop/github/GridProjectHealth-Care/venv/lib/python3.10/site-packages (from matplotlib~=3.0->cirq-core==1.2.0->cirq) (4.42.0)\n",
            "Requirement already satisfied: kiwisolver>=1.0.1 in /home/rupax/Desktop/github/GridProjectHealth-Care/venv/lib/python3.10/site-packages (from matplotlib~=3.0->cirq-core==1.2.0->cirq) (1.4.4)\n",
            "Requirement already satisfied: packaging>=20.0 in /home/rupax/Desktop/github/GridProjectHealth-Care/venv/lib/python3.10/site-packages (from matplotlib~=3.0->cirq-core==1.2.0->cirq) (23.1)\n",
            "Requirement already satisfied: pillow>=6.2.0 in /home/rupax/Desktop/github/GridProjectHealth-Care/venv/lib/python3.10/site-packages (from matplotlib~=3.0->cirq-core==1.2.0->cirq) (10.0.0)\n",
            "Requirement already satisfied: pyparsing<3.1,>=2.3.1 in /home/rupax/Desktop/github/GridProjectHealth-Care/venv/lib/python3.10/site-packages (from matplotlib~=3.0->cirq-core==1.2.0->cirq) (3.0.9)\n",
            "Requirement already satisfied: python-dateutil>=2.7 in /home/rupax/Desktop/github/GridProjectHealth-Care/venv/lib/python3.10/site-packages (from matplotlib~=3.0->cirq-core==1.2.0->cirq) (2.8.2)\n",
            "Requirement already satisfied: lark<0.12.0,>=0.11.1 in /home/rupax/Desktop/github/GridProjectHealth-Care/venv/lib/python3.10/site-packages (from pyquil~=3.2.0->cirq-rigetti==1.2.0->cirq) (0.11.3)\n",
            "Requirement already satisfied: qcs-api-client<0.22.0,>=0.20.13 in /home/rupax/Desktop/github/GridProjectHealth-Care/venv/lib/python3.10/site-packages (from pyquil~=3.2.0->cirq-rigetti==1.2.0->cirq) (0.21.6)\n",
            "Requirement already satisfied: retry<0.10.0,>=0.9.2 in /home/rupax/Desktop/github/GridProjectHealth-Care/venv/lib/python3.10/site-packages (from pyquil~=3.2.0->cirq-rigetti==1.2.0->cirq) (0.9.2)\n",
            "Requirement already satisfied: rpcq<4.0.0,>=3.10.0 in /home/rupax/Desktop/github/GridProjectHealth-Care/venv/lib/python3.10/site-packages (from pyquil~=3.2.0->cirq-rigetti==1.2.0->cirq) (3.11.0)\n",
            "Requirement already satisfied: charset-normalizer<4,>=2 in /home/rupax/Desktop/github/GridProjectHealth-Care/venv/lib/python3.10/site-packages (from requests~=2.18->cirq-aqt==1.2.0->cirq) (3.2.0)\n",
            "Requirement already satisfied: idna<4,>=2.5 in /home/rupax/Desktop/github/GridProjectHealth-Care/venv/lib/python3.10/site-packages (from requests~=2.18->cirq-aqt==1.2.0->cirq) (3.4)\n",
            "Requirement already satisfied: urllib3<3,>=1.21.1 in /home/rupax/Desktop/github/GridProjectHealth-Care/venv/lib/python3.10/site-packages (from requests~=2.18->cirq-aqt==1.2.0->cirq) (1.26.16)\n",
            "Requirement already satisfied: certifi>=2017.4.17 in /home/rupax/Desktop/github/GridProjectHealth-Care/venv/lib/python3.10/site-packages (from requests~=2.18->cirq-aqt==1.2.0->cirq) (2023.7.22)\n",
            "Requirement already satisfied: comm>=0.1.3 in /home/rupax/Desktop/github/GridProjectHealth-Care/venv/lib/python3.10/site-packages (from ipywidgets->cirq-ft==1.2.0->cirq) (0.1.4)\n",
            "Requirement already satisfied: ipython>=6.1.0 in /home/rupax/Desktop/github/GridProjectHealth-Care/venv/lib/python3.10/site-packages (from ipywidgets->cirq-ft==1.2.0->cirq) (8.14.0)\n",
            "Requirement already satisfied: traitlets>=4.3.1 in /home/rupax/Desktop/github/GridProjectHealth-Care/venv/lib/python3.10/site-packages (from ipywidgets->cirq-ft==1.2.0->cirq) (5.9.0)\n",
            "Requirement already satisfied: widgetsnbextension~=4.0.7 in /home/rupax/Desktop/github/GridProjectHealth-Care/venv/lib/python3.10/site-packages (from ipywidgets->cirq-ft==1.2.0->cirq) (4.0.8)\n",
            "Requirement already satisfied: jupyterlab-widgets~=3.0.7 in /home/rupax/Desktop/github/GridProjectHealth-Care/venv/lib/python3.10/site-packages (from ipywidgets->cirq-ft==1.2.0->cirq) (3.0.8)\n",
            "Requirement already satisfied: beautifulsoup4 in /home/rupax/Desktop/github/GridProjectHealth-Care/venv/lib/python3.10/site-packages (from nbconvert->cirq-ft==1.2.0->cirq) (4.12.2)\n",
            "Requirement already satisfied: bleach!=5.0.0 in /home/rupax/Desktop/github/GridProjectHealth-Care/venv/lib/python3.10/site-packages (from nbconvert->cirq-ft==1.2.0->cirq) (6.0.0)\n",
            "Requirement already satisfied: defusedxml in /home/rupax/Desktop/github/GridProjectHealth-Care/venv/lib/python3.10/site-packages (from nbconvert->cirq-ft==1.2.0->cirq) (0.7.1)\n",
            "Requirement already satisfied: jinja2>=3.0 in /home/rupax/Desktop/github/GridProjectHealth-Care/venv/lib/python3.10/site-packages (from nbconvert->cirq-ft==1.2.0->cirq) (3.1.2)\n",
            "Requirement already satisfied: jupyter-core>=4.7 in /home/rupax/Desktop/github/GridProjectHealth-Care/venv/lib/python3.10/site-packages (from nbconvert->cirq-ft==1.2.0->cirq) (5.3.1)\n",
            "Requirement already satisfied: jupyterlab-pygments in /home/rupax/Desktop/github/GridProjectHealth-Care/venv/lib/python3.10/site-packages (from nbconvert->cirq-ft==1.2.0->cirq) (0.2.2)\n",
            "Requirement already satisfied: markupsafe>=2.0 in /home/rupax/Desktop/github/GridProjectHealth-Care/venv/lib/python3.10/site-packages (from nbconvert->cirq-ft==1.2.0->cirq) (2.1.3)\n",
            "Requirement already satisfied: mistune<4,>=2.0.3 in /home/rupax/Desktop/github/GridProjectHealth-Care/venv/lib/python3.10/site-packages (from nbconvert->cirq-ft==1.2.0->cirq) (3.0.1)\n",
            "Requirement already satisfied: nbclient>=0.5.0 in /home/rupax/Desktop/github/GridProjectHealth-Care/venv/lib/python3.10/site-packages (from nbconvert->cirq-ft==1.2.0->cirq) (0.8.0)\n",
            "Requirement already satisfied: pandocfilters>=1.4.1 in /home/rupax/Desktop/github/GridProjectHealth-Care/venv/lib/python3.10/site-packages (from nbconvert->cirq-ft==1.2.0->cirq) (1.5.0)\n",
            "Requirement already satisfied: pygments>=2.4.1 in /home/rupax/Desktop/github/GridProjectHealth-Care/venv/lib/python3.10/site-packages (from nbconvert->cirq-ft==1.2.0->cirq) (2.16.1)\n",
            "Requirement already satisfied: tinycss2 in /home/rupax/Desktop/github/GridProjectHealth-Care/venv/lib/python3.10/site-packages (from nbconvert->cirq-ft==1.2.0->cirq) (1.2.1)\n",
            "Requirement already satisfied: fastjsonschema in /home/rupax/Desktop/github/GridProjectHealth-Care/venv/lib/python3.10/site-packages (from nbformat->cirq-ft==1.2.0->cirq) (2.18.0)\n",
            "Requirement already satisfied: jsonschema>=2.6 in /home/rupax/Desktop/github/GridProjectHealth-Care/venv/lib/python3.10/site-packages (from nbformat->cirq-ft==1.2.0->cirq) (4.17.3)\n",
            "Requirement already satisfied: pytz>=2020.1 in /home/rupax/Desktop/github/GridProjectHealth-Care/venv/lib/python3.10/site-packages (from pandas->cirq-core==1.2.0->cirq) (2023.3)\n",
            "Requirement already satisfied: tzdata>=2022.1 in /home/rupax/Desktop/github/GridProjectHealth-Care/venv/lib/python3.10/site-packages (from pandas->cirq-core==1.2.0->cirq) (2023.3)\n",
            "Requirement already satisfied: mpmath>=0.19 in /home/rupax/Desktop/github/GridProjectHealth-Care/venv/lib/python3.10/site-packages (from sympy->cirq-core==1.2.0->cirq) (1.3.0)\n",
            "Requirement already satisfied: six>=1.9.0 in /home/rupax/Desktop/github/GridProjectHealth-Care/venv/lib/python3.10/site-packages (from bleach!=5.0.0->nbconvert->cirq-ft==1.2.0->cirq) (1.16.0)\n",
            "Requirement already satisfied: webencodings in /home/rupax/Desktop/github/GridProjectHealth-Care/venv/lib/python3.10/site-packages (from bleach!=5.0.0->nbconvert->cirq-ft==1.2.0->cirq) (0.5.1)\n",
            "Requirement already satisfied: pyasn1-modules>=0.2.1 in /home/rupax/Desktop/github/GridProjectHealth-Care/venv/lib/python3.10/site-packages (from google-auth<3.0.dev0,>=2.14.1->google-api-core[grpc]>=1.14.0->cirq-google==1.2.0->cirq) (0.3.0)\n",
            "Requirement already satisfied: rsa<5,>=3.1.4 in /home/rupax/Desktop/github/GridProjectHealth-Care/venv/lib/python3.10/site-packages (from google-auth<3.0.dev0,>=2.14.1->google-api-core[grpc]>=1.14.0->cirq-google==1.2.0->cirq) (4.9)\n",
            "Requirement already satisfied: backcall in /home/rupax/Desktop/github/GridProjectHealth-Care/venv/lib/python3.10/site-packages (from ipython>=6.1.0->ipywidgets->cirq-ft==1.2.0->cirq) (0.2.0)\n",
            "Requirement already satisfied: decorator in /home/rupax/Desktop/github/GridProjectHealth-Care/venv/lib/python3.10/site-packages (from ipython>=6.1.0->ipywidgets->cirq-ft==1.2.0->cirq) (5.1.1)\n",
            "Requirement already satisfied: jedi>=0.16 in /home/rupax/Desktop/github/GridProjectHealth-Care/venv/lib/python3.10/site-packages (from ipython>=6.1.0->ipywidgets->cirq-ft==1.2.0->cirq) (0.19.0)\n",
            "Requirement already satisfied: matplotlib-inline in /home/rupax/Desktop/github/GridProjectHealth-Care/venv/lib/python3.10/site-packages (from ipython>=6.1.0->ipywidgets->cirq-ft==1.2.0->cirq) (0.1.6)\n",
            "Requirement already satisfied: pickleshare in /home/rupax/Desktop/github/GridProjectHealth-Care/venv/lib/python3.10/site-packages (from ipython>=6.1.0->ipywidgets->cirq-ft==1.2.0->cirq) (0.7.5)\n",
            "Requirement already satisfied: prompt-toolkit!=3.0.37,<3.1.0,>=3.0.30 in /home/rupax/Desktop/github/GridProjectHealth-Care/venv/lib/python3.10/site-packages (from ipython>=6.1.0->ipywidgets->cirq-ft==1.2.0->cirq) (3.0.39)\n",
            "Requirement already satisfied: stack-data in /home/rupax/Desktop/github/GridProjectHealth-Care/venv/lib/python3.10/site-packages (from ipython>=6.1.0->ipywidgets->cirq-ft==1.2.0->cirq) (0.6.2)\n",
            "Requirement already satisfied: pexpect>4.3 in /home/rupax/Desktop/github/GridProjectHealth-Care/venv/lib/python3.10/site-packages (from ipython>=6.1.0->ipywidgets->cirq-ft==1.2.0->cirq) (4.8.0)\n",
            "Requirement already satisfied: pyrsistent!=0.17.0,!=0.17.1,!=0.17.2,>=0.14.0 in /home/rupax/Desktop/github/GridProjectHealth-Care/venv/lib/python3.10/site-packages (from jsonschema>=2.6->nbformat->cirq-ft==1.2.0->cirq) (0.19.3)\n",
            "Requirement already satisfied: platformdirs>=2.5 in /home/rupax/Desktop/github/GridProjectHealth-Care/venv/lib/python3.10/site-packages (from jupyter-core>=4.7->nbconvert->cirq-ft==1.2.0->cirq) (3.10.0)\n",
            "Requirement already satisfied: jupyter-client>=6.1.12 in /home/rupax/Desktop/github/GridProjectHealth-Care/venv/lib/python3.10/site-packages (from nbclient>=0.5.0->nbconvert->cirq-ft==1.2.0->cirq) (8.3.0)\n",
            "Requirement already satisfied: PyJWT<3.0.0,>=2.4.0 in /home/rupax/Desktop/github/GridProjectHealth-Care/venv/lib/python3.10/site-packages (from qcs-api-client<0.22.0,>=0.20.13->pyquil~=3.2.0->cirq-rigetti==1.2.0->cirq) (2.8.0)\n",
            "Requirement already satisfied: httpx<0.24.0,>=0.23.0 in /home/rupax/Desktop/github/GridProjectHealth-Care/venv/lib/python3.10/site-packages (from qcs-api-client<0.22.0,>=0.20.13->pyquil~=3.2.0->cirq-rigetti==1.2.0->cirq) (0.23.3)\n",
            "Requirement already satisfied: iso8601<2.0.0,>=1.0.2 in /home/rupax/Desktop/github/GridProjectHealth-Care/venv/lib/python3.10/site-packages (from qcs-api-client<0.22.0,>=0.20.13->pyquil~=3.2.0->cirq-rigetti==1.2.0->cirq) (1.1.0)\n",
            "Requirement already satisfied: pydantic<2.0.0,>=1.7.2 in /home/rupax/Desktop/github/GridProjectHealth-Care/venv/lib/python3.10/site-packages (from qcs-api-client<0.22.0,>=0.20.13->pyquil~=3.2.0->cirq-rigetti==1.2.0->cirq) (1.10.12)\n",
            "Requirement already satisfied: retrying<2.0.0,>=1.3.3 in /home/rupax/Desktop/github/GridProjectHealth-Care/venv/lib/python3.10/site-packages (from qcs-api-client<0.22.0,>=0.20.13->pyquil~=3.2.0->cirq-rigetti==1.2.0->cirq) (1.3.4)\n",
            "Requirement already satisfied: rfc3339<7.0,>=6.2 in /home/rupax/Desktop/github/GridProjectHealth-Care/venv/lib/python3.10/site-packages (from qcs-api-client<0.22.0,>=0.20.13->pyquil~=3.2.0->cirq-rigetti==1.2.0->cirq) (6.2)\n",
            "Requirement already satisfied: toml<0.11.0,>=0.10.2 in /home/rupax/Desktop/github/GridProjectHealth-Care/venv/lib/python3.10/site-packages (from qcs-api-client<0.22.0,>=0.20.13->pyquil~=3.2.0->cirq-rigetti==1.2.0->cirq) (0.10.2)\n",
            "Requirement already satisfied: py<2.0.0,>=1.4.26 in /home/rupax/Desktop/github/GridProjectHealth-Care/venv/lib/python3.10/site-packages (from retry<0.10.0,>=0.9.2->pyquil~=3.2.0->cirq-rigetti==1.2.0->cirq) (1.11.0)\n",
            "Requirement already satisfied: msgpack<2.0,>=0.6 in /home/rupax/Desktop/github/GridProjectHealth-Care/venv/lib/python3.10/site-packages (from rpcq<4.0.0,>=3.10.0->pyquil~=3.2.0->cirq-rigetti==1.2.0->cirq) (1.0.5)\n",
            "Requirement already satisfied: python-rapidjson in /home/rupax/Desktop/github/GridProjectHealth-Care/venv/lib/python3.10/site-packages (from rpcq<4.0.0,>=3.10.0->pyquil~=3.2.0->cirq-rigetti==1.2.0->cirq) (1.10)\n",
            "Requirement already satisfied: pyzmq>=17 in /home/rupax/Desktop/github/GridProjectHealth-Care/venv/lib/python3.10/site-packages (from rpcq<4.0.0,>=3.10.0->pyquil~=3.2.0->cirq-rigetti==1.2.0->cirq) (25.1.0)\n",
            "Requirement already satisfied: ruamel.yaml in /home/rupax/Desktop/github/GridProjectHealth-Care/venv/lib/python3.10/site-packages (from rpcq<4.0.0,>=3.10.0->pyquil~=3.2.0->cirq-rigetti==1.2.0->cirq) (0.17.32)\n",
            "Requirement already satisfied: soupsieve>1.2 in /home/rupax/Desktop/github/GridProjectHealth-Care/venv/lib/python3.10/site-packages (from beautifulsoup4->nbconvert->cirq-ft==1.2.0->cirq) (2.4.1)\n",
            "Requirement already satisfied: httpcore<0.17.0,>=0.15.0 in /home/rupax/Desktop/github/GridProjectHealth-Care/venv/lib/python3.10/site-packages (from httpx<0.24.0,>=0.23.0->qcs-api-client<0.22.0,>=0.20.13->pyquil~=3.2.0->cirq-rigetti==1.2.0->cirq) (0.16.3)\n",
            "Requirement already satisfied: rfc3986[idna2008]<2,>=1.3 in /home/rupax/Desktop/github/GridProjectHealth-Care/venv/lib/python3.10/site-packages (from httpx<0.24.0,>=0.23.0->qcs-api-client<0.22.0,>=0.20.13->pyquil~=3.2.0->cirq-rigetti==1.2.0->cirq) (1.5.0)\n",
            "Requirement already satisfied: sniffio in /home/rupax/Desktop/github/GridProjectHealth-Care/venv/lib/python3.10/site-packages (from httpx<0.24.0,>=0.23.0->qcs-api-client<0.22.0,>=0.20.13->pyquil~=3.2.0->cirq-rigetti==1.2.0->cirq) (1.3.0)\n",
            "Requirement already satisfied: parso<0.9.0,>=0.8.3 in /home/rupax/Desktop/github/GridProjectHealth-Care/venv/lib/python3.10/site-packages (from jedi>=0.16->ipython>=6.1.0->ipywidgets->cirq-ft==1.2.0->cirq) (0.8.3)\n",
            "Requirement already satisfied: tornado>=6.2 in /home/rupax/Desktop/github/GridProjectHealth-Care/venv/lib/python3.10/site-packages (from jupyter-client>=6.1.12->nbclient>=0.5.0->nbconvert->cirq-ft==1.2.0->cirq) (6.3.2)\n",
            "Requirement already satisfied: ptyprocess>=0.5 in /home/rupax/Desktop/github/GridProjectHealth-Care/venv/lib/python3.10/site-packages (from pexpect>4.3->ipython>=6.1.0->ipywidgets->cirq-ft==1.2.0->cirq) (0.7.0)\n",
            "Requirement already satisfied: wcwidth in /home/rupax/Desktop/github/GridProjectHealth-Care/venv/lib/python3.10/site-packages (from prompt-toolkit!=3.0.37,<3.1.0,>=3.0.30->ipython>=6.1.0->ipywidgets->cirq-ft==1.2.0->cirq) (0.2.6)\n",
            "Requirement already satisfied: pyasn1<0.6.0,>=0.4.6 in /home/rupax/Desktop/github/GridProjectHealth-Care/venv/lib/python3.10/site-packages (from pyasn1-modules>=0.2.1->google-auth<3.0.dev0,>=2.14.1->google-api-core[grpc]>=1.14.0->cirq-google==1.2.0->cirq) (0.5.0)\n",
            "Requirement already satisfied: ruamel.yaml.clib>=0.2.7 in /home/rupax/Desktop/github/GridProjectHealth-Care/venv/lib/python3.10/site-packages (from ruamel.yaml->rpcq<4.0.0,>=3.10.0->pyquil~=3.2.0->cirq-rigetti==1.2.0->cirq) (0.2.7)\n",
            "Requirement already satisfied: executing>=1.2.0 in /home/rupax/Desktop/github/GridProjectHealth-Care/venv/lib/python3.10/site-packages (from stack-data->ipython>=6.1.0->ipywidgets->cirq-ft==1.2.0->cirq) (1.2.0)\n",
            "Requirement already satisfied: asttokens>=2.1.0 in /home/rupax/Desktop/github/GridProjectHealth-Care/venv/lib/python3.10/site-packages (from stack-data->ipython>=6.1.0->ipywidgets->cirq-ft==1.2.0->cirq) (2.2.1)\n",
            "Requirement already satisfied: pure-eval in /home/rupax/Desktop/github/GridProjectHealth-Care/venv/lib/python3.10/site-packages (from stack-data->ipython>=6.1.0->ipywidgets->cirq-ft==1.2.0->cirq) (0.2.2)\n",
            "Requirement already satisfied: h11<0.15,>=0.13 in /home/rupax/Desktop/github/GridProjectHealth-Care/venv/lib/python3.10/site-packages (from httpcore<0.17.0,>=0.15.0->httpx<0.24.0,>=0.23.0->qcs-api-client<0.22.0,>=0.20.13->pyquil~=3.2.0->cirq-rigetti==1.2.0->cirq) (0.14.0)\n",
            "Requirement already satisfied: anyio<5.0,>=3.0 in /home/rupax/Desktop/github/GridProjectHealth-Care/venv/lib/python3.10/site-packages (from httpcore<0.17.0,>=0.15.0->httpx<0.24.0,>=0.23.0->qcs-api-client<0.22.0,>=0.20.13->pyquil~=3.2.0->cirq-rigetti==1.2.0->cirq) (3.7.1)\n",
            "Requirement already satisfied: exceptiongroup in /home/rupax/Desktop/github/GridProjectHealth-Care/venv/lib/python3.10/site-packages (from anyio<5.0,>=3.0->httpcore<0.17.0,>=0.15.0->httpx<0.24.0,>=0.23.0->qcs-api-client<0.22.0,>=0.20.13->pyquil~=3.2.0->cirq-rigetti==1.2.0->cirq) (1.1.2)\n"
          ]
        }
      ],
      "source": [
        "!pip install cirq"
      ]
    },
    {
      "cell_type": "code",
      "execution_count": 144,
      "metadata": {
        "id": "ReDnNYECN3iH"
      },
      "outputs": [],
      "source": [
        "import torch\n",
        "import torch.nn as nn\n",
        "import torch.optim as optim\n",
        "import torchvision\n",
        "import torchvision.transforms as transforms\n",
        "import cirq\n",
        "from math import pi"
      ]
    },
    {
      "cell_type": "code",
      "execution_count": 145,
      "metadata": {
        "id": "MD_fteZ_pdgA"
      },
      "outputs": [],
      "source": [
        "device = 'cuda' if torch.cuda.is_available() else 'cpu'"
      ]
    },
    {
      "cell_type": "code",
      "execution_count": 146,
      "metadata": {
        "id": "DY4Eca_AdMoG"
      },
      "outputs": [],
      "source": [
        "transform = transforms.Compose([transforms.ToTensor(), transforms.Normalize((0.5,), (0.5,))])\n",
        "trainset = torchvision.datasets.MNIST(root='./data', train=True, download=True, transform=transform)\n",
        "trainloader = torch.utils.data.DataLoader(trainset, batch_size=30, shuffle=True)"
      ]
    },
    {
      "cell_type": "code",
      "execution_count": 147,
      "metadata": {
        "id": "E5IhZEZkf9Sq"
      },
      "outputs": [],
      "source": [
        "testset = torchvision.datasets.MNIST(root='./data', train=False, download=True, transform=transform)\n",
        "testloader = torch.utils.data.DataLoader(testset, batch_size=30, shuffle=False)"
      ]
    },
    {
      "cell_type": "code",
      "execution_count": 155,
      "metadata": {
        "id": "Ze0OQDeUuNjt"
      },
      "outputs": [],
      "source": [
        "class QuantamConv2d(nn.Module):\n",
        "    def __init__(self):\n",
        "        super(QuantamConv2d, self).__init__()\n",
        "        self.weight = nn.Parameter(torch.ones(4))*100\n",
        "        self.bias = nn.Parameter(torch.zeros(4))\n",
        "        self.simulator = cirq.Simulator()\n",
        "\n",
        "\n",
        "    def forward(self, x):\n",
        "        kernel_height, kernel_width = (2,2)\n",
        "        assert x.size() == ( 30, 1, 28, 28 )\n",
        "        batch, _, image_height, image_width = x.size()\n",
        "        result = torch.zeros(30, 1, 14, 14)\n",
        "        for z in range(30):\n",
        "            for i in range(0,image_height - kernel_height + 1,2):\n",
        "                for j in range(0,image_width - kernel_width + 1,2):\n",
        "                    P = x[z][0][i:i+kernel_height, j:j+kernel_width]\n",
        "                    P = [P[0][0], P[0][1], P[1][0], P[1][1]]\n",
        "                    circuit, keys = self.kernel(P)\n",
        "                    res = self.simulator.run(circuit, repetitions=10)\n",
        "                    # print(res.histogram(key=keys[3]))\n",
        "                    try:\n",
        "                        result[z][0][i//2][j//2] = res.histogram(key=keys[3])[1] * 0.1\n",
        "                    except:\n",
        "                        result[z][0][i//2][j//2] = 0\n",
        "        return result\n",
        "    \n",
        "    def backward():\n",
        "        pass\n",
        "\n",
        "    def kernel(self, P):\n",
        "        Q = [cirq.GridQubit(i,0) for i in range(4)]\n",
        "        W = [cirq.GridQubit(i,1) for i in range(3)]\n",
        "        keys = [\"q0\", \"q1\", \"q2\", \"q3\"]\n",
        "\n",
        "        circuit = cirq.Circuit()\n",
        "        # for i in range(4):\n",
        "        #     circuit.append(cirq.H(Q[i]))\n",
        "\n",
        "        weight = self.weight.tolist()\n",
        "\n",
        "        for i in range(4):\n",
        "            circuit.append(cirq.ry(P[i].item()/255 * pi).on(Q[i]))\n",
        "\n",
        "        for i in range(3):\n",
        "            circuit.append(cirq.rx(weight[i]/255 * pi).on(W[i]))\n",
        "\n",
        "        for i in range(3):\n",
        "            circuit.append(cirq.TOFFOLI(W[i], Q[i], Q[i+1]))\n",
        "\n",
        "        for i in range(3):\n",
        "            circuit.append(cirq.ZZ(Q[i], Q[i+1]))\n",
        "\n",
        "        for i in range(4):\n",
        "            circuit.append(cirq.measure(Q[i], key=keys[i]))\n",
        "        return circuit, keys\n",
        "\n"
      ]
    },
    {
      "cell_type": "code",
      "execution_count": 149,
      "metadata": {
        "id": "e-_wYYHRhegu"
      },
      "outputs": [],
      "source": [
        "class CustomLayer(nn.Module):\n",
        "    def __init__(self):\n",
        "        super(CustomLayer, self).__init__()\n",
        "        self.conv1 = QuantamConv2d()\n",
        "\n",
        "    def forward(self, x):\n",
        "        # print(\"before : \", x.shape)\n",
        "        x = torch.relu(self.conv1(x))\n",
        "        # print(\"after : \", x.shape)\n",
        "        return x"
      ]
    },
    {
      "cell_type": "code",
      "execution_count": 150,
      "metadata": {
        "id": "5jtizQATRNWe"
      },
      "outputs": [],
      "source": [
        "# Define the CNN model\n",
        "class Net(nn.Module):\n",
        "    def __init__(self):\n",
        "        super(Net, self).__init__()\n",
        "        self.custom_layer = CustomLayer()\n",
        "        self.fc1 = nn.Linear(14*14, 120)\n",
        "        self.fc2 = nn.Linear(120, 84)\n",
        "        self.fc3 = nn.Linear(84, 10)\n",
        "        self.conv = nn.Conv2d(in_channels=1, out_channels=1, kernel_size=2, stride=2)\n",
        "\n",
        "    def forward(self, x):\n",
        "        # x = torch.relu(self.custom_layer(x))\n",
        "        x = torch.relu(self.conv(x))\n",
        "        x = x.view(-1, 1*14*14)\n",
        "        x = torch.relu(self.fc1(x))\n",
        "        x = torch.relu(self.fc2(x))\n",
        "        x = self.fc3(x)\n",
        "        return x"
      ]
    },
    {
      "cell_type": "code",
      "execution_count": 181,
      "metadata": {
        "id": "mPz9z2vidUMU"
      },
      "outputs": [],
      "source": [
        "# Initialize the network and optimizer\n",
        "net = Net()\n",
        "criterion = nn.CrossEntropyLoss()\n",
        "optimizer = optim.SGD(net.parameters(), lr=0.001, momentum=0.9)"
      ]
    },
    {
      "cell_type": "code",
      "execution_count": 152,
      "metadata": {},
      "outputs": [
        {
          "name": "stdout",
          "output_type": "stream",
          "text": [
            "['_DataLoader__initialized', '_DataLoader__multiprocessing_context', '_IterableDataset_len_called', '__annotations__', '__class__', '__class_getitem__', '__delattr__', '__dict__', '__dir__', '__doc__', '__eq__', '__format__', '__ge__', '__getattribute__', '__gt__', '__hash__', '__init__', '__init_subclass__', '__iter__', '__le__', '__len__', '__lt__', '__module__', '__ne__', '__new__', '__orig_bases__', '__parameters__', '__reduce__', '__reduce_ex__', '__repr__', '__setattr__', '__sizeof__', '__slots__', '__str__', '__subclasshook__', '__weakref__', '_auto_collation', '_dataset_kind', '_get_iterator', '_index_sampler', '_is_protocol', '_iterator', 'batch_sampler', 'batch_size', 'check_worker_number_rationality', 'collate_fn', 'dataset', 'drop_last', 'generator', 'multiprocessing_context', 'num_workers', 'persistent_workers', 'pin_memory', 'pin_memory_device', 'prefetch_factor', 'sampler', 'timeout', 'worker_init_fn']\n"
          ]
        }
      ],
      "source": [
        "print(dir(trainloader))"
      ]
    },
    {
      "cell_type": "code",
      "execution_count": 182,
      "metadata": {
        "colab": {
          "base_uri": "https://localhost:8080/"
        },
        "id": "su3XPWdWdYem",
        "outputId": "f9f80bf0-94ac-46f0-8730-7abbf02db87a"
      },
      "outputs": [
        {
          "name": "stdout",
          "output_type": "stream",
          "text": [
            "Running epoc: 0\n",
            "Running epoc: 1\n",
            "Running epoc: 2\n",
            "Running epoc: 3\n",
            "Running epoc: 4\n",
            "Running epoc: 5\n",
            "Running epoc: 6\n",
            "Running epoc: 7\n",
            "Running epoc: 8\n",
            "Running epoc: 9\n",
            "Running epoc: 10\n",
            "Running epoc: 11\n",
            "Running epoc: 12\n",
            "Running epoc: 13\n",
            "Running epoc: 14\n",
            "Running epoc: 15\n",
            "Running epoc: 16\n",
            "Running epoc: 17\n",
            "Running epoc: 18\n",
            "Running epoc: 19\n",
            "Running epoc: 20\n",
            "Running epoc: 21\n",
            "Running epoc: 22\n",
            "Running epoc: 23\n",
            "Running epoc: 24\n",
            "Running epoc: 25\n",
            "Running epoc: 26\n",
            "Running epoc: 27\n",
            "Running epoc: 28\n",
            "Running epoc: 29\n",
            "Running epoc: 30\n",
            "Running epoc: 31\n",
            "Running epoc: 32\n",
            "Running epoc: 33\n",
            "Running epoc: 34\n",
            "Running epoc: 35\n",
            "Running epoc: 36\n",
            "Running epoc: 37\n",
            "Running epoc: 38\n",
            "Running epoc: 39\n",
            "Running epoc: 40\n",
            "Running epoc: 41\n",
            "Running epoc: 42\n",
            "Running epoc: 43\n",
            "Running epoc: 44\n",
            "Running epoc: 45\n",
            "Running epoc: 46\n",
            "Running epoc: 47\n",
            "Running epoc: 48\n",
            "Running epoc: 49\n",
            "Running epoc: 50\n",
            "Running epoc: 51\n",
            "Running epoc: 52\n",
            "Running epoc: 53\n",
            "Running epoc: 54\n",
            "Running epoc: 55\n",
            "Running epoc: 56\n",
            "Running epoc: 57\n",
            "Running epoc: 58\n",
            "Running epoc: 59\n",
            "Running epoc: 60\n",
            "Running epoc: 61\n",
            "Running epoc: 62\n",
            "Running epoc: 63\n",
            "Running epoc: 64\n",
            "Running epoc: 65\n",
            "Running epoc: 66\n",
            "Running epoc: 67\n",
            "Running epoc: 68\n",
            "Running epoc: 69\n",
            "Running epoc: 70\n",
            "Running epoc: 71\n",
            "Running epoc: 72\n",
            "Running epoc: 73\n",
            "Running epoc: 74\n",
            "Running epoc: 75\n",
            "Running epoc: 76\n",
            "Running epoc: 77\n",
            "Running epoc: 78\n",
            "Running epoc: 79\n",
            "Running epoc: 80\n",
            "Running epoc: 81\n",
            "Running epoc: 82\n",
            "Running epoc: 83\n",
            "Running epoc: 84\n",
            "Running epoc: 85\n",
            "Running epoc: 86\n",
            "Running epoc: 87\n",
            "Running epoc: 88\n",
            "Running epoc: 89\n",
            "Running epoc: 90\n",
            "Running epoc: 91\n",
            "Running epoc: 92\n",
            "Running epoc: 93\n",
            "Running epoc: 94\n",
            "Running epoc: 95\n",
            "Running epoc: 96\n",
            "Running epoc: 97\n",
            "Running epoc: 98\n",
            "Running epoc: 99\n",
            "Finished Training\n",
            "Running loss:  2.2791130542755127\n"
          ]
        }
      ],
      "source": [
        "# Training loop\n",
        "for epoch in range(100):  # Change the number of epochs as needed\n",
        "    running_loss = 0.0\n",
        "    print(f\"Running epoc: {epoch}\")\n",
        "    for i, data in enumerate(trainloader, 0):\n",
        "        inputs, labels = data\n",
        "        optimizer.zero_grad()\n",
        "        outputs = net(inputs)\n",
        "        loss = criterion(outputs, labels)\n",
        "        loss.backward()\n",
        "        optimizer.step()\n",
        "        running_loss += loss.item()\n",
        "        break\n",
        "\n",
        "print('Finished Training')\n",
        "print(\"Running loss: \", running_loss)"
      ]
    },
    {
      "cell_type": "code",
      "execution_count": 183,
      "metadata": {
        "id": "WSpqaX0bf18C"
      },
      "outputs": [
        {
          "name": "stdout",
          "output_type": "stream",
          "text": [
            "total: 30, correct = 6\n",
            "total: 60, correct = 7\n",
            "total: 90, correct = 9\n",
            "total: 120, correct = 10\n",
            "Accuracy of the network on the 120 test images: 8.33%\n"
          ]
        }
      ],
      "source": [
        "# Testing the model\n",
        "correct = 0\n",
        "total = 0\n",
        "count = 0\n",
        "with torch.no_grad():\n",
        "    for data in testloader:\n",
        "        count += 1\n",
        "        images, labels = data\n",
        "        outputs = net(images)\n",
        "        _, predicted = torch.max(outputs.data, 1)\n",
        "        total += labels.size(0)\n",
        "        correct += (predicted == labels).sum().item()\n",
        "        print(f\"total: {total}, correct = {correct}\")\n",
        "        if total > 100 : break\n",
        "        \n",
        "print(f'Accuracy of the network on the {total} test images: {100 * correct / total:.2f}%')\n"
      ]
    }
  ],
  "metadata": {
    "colab": {
      "provenance": []
    },
    "kernelspec": {
      "display_name": "Python 3",
      "name": "python3"
    },
    "language_info": {
      "codemirror_mode": {
        "name": "ipython",
        "version": 3
      },
      "file_extension": ".py",
      "mimetype": "text/x-python",
      "name": "python",
      "nbconvert_exporter": "python",
      "pygments_lexer": "ipython3",
      "version": "3.10.12"
    }
  },
  "nbformat": 4,
  "nbformat_minor": 0
}
